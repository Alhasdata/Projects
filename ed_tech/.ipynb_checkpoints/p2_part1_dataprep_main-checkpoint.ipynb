{
 "cells": [
  {
   "cell_type": "code",
   "execution_count": 1,
   "id": "322e59b5",
   "metadata": {},
   "outputs": [],
   "source": [
    "import pandas as pd\n",
    "import numpy as np\n",
    "import seaborn as sns\n",
    "import matplotlib.pyplot as plt\n",
    "import datetime as dt\n",
    "import warnings\n",
    "import folium\n",
    "import missingno as msno\n",
    "import home_made_functions as hmf\n",
    "\n",
    "#warnings.filterwarnings(\"ignore\")"
   ]
  },
  {
   "cell_type": "markdown",
   "id": "a564e5e6-8da7-497f-895f-03796436fce3",
   "metadata": {},
   "source": [
    "<h1  style= \"background-color: gray;\n",
    "                 color:white;\n",
    "            text-align: center; \n",
    "            font-family:Helvetica, Arial, verdana, sans-serif\"> Préparation des données </h1>"
   ]
  },
  {
   "cell_type": "markdown",
   "id": "dd8eb6a5-39c3-445d-ad0e-edd3bb1222ba",
   "metadata": {},
   "source": [
    "## 1. Introduction"
   ]
  },
  {
   "cell_type": "markdown",
   "id": "936d51d0-7d9c-416e-b1c1-1704225f46ee",
   "metadata": {},
   "source": [
    "academy est une edtech qui propose de contenus de formation en ligne de niveau lycée et université.L'entreprise envisage une internationalisation et l'objectif de ce projet est analyser des données issues de la banque mondiale afin de déterminer les pays à fort potentiel.\n",
    "\n",
    "Dans cette première partie, nous allons analyser, trier et consolider les données.\n",
    "\n",
    "**Plan d'action :**\n",
    "1. Analyser les fichiers et valider la qualité des données.\n",
    "2. Consolider les données \n",
    "3. Selectionner les indicateurs pertinents\n",
    "3. Déterminer une période à étudier.\n",
    "4. Filtrer les données en fonction des choix précédents\n",
    "5. Exporter le jeu de donnés final pour l'analyse.\n"
   ]
  },
  {
   "cell_type": "markdown",
   "id": "f4e2bdb0-ad80-4d12-aee6-18b0cd11e4c4",
   "metadata": {},
   "source": [
    "## 2. Analyse des fichiers"
   ]
  },
  {
   "cell_type": "markdown",
   "id": "e5cae89f",
   "metadata": {},
   "source": [
    "### 2.1. Fichier EdStatsCountry-Series"
   ]
  },
  {
   "cell_type": "code",
   "execution_count": 2,
   "id": "5fa1cff5-efb9-4f72-8fb4-6373756eafec",
   "metadata": {},
   "outputs": [
    {
     "data": {
      "text/html": [
       "<div>\n",
       "<style scoped>\n",
       "    .dataframe tbody tr th:only-of-type {\n",
       "        vertical-align: middle;\n",
       "    }\n",
       "\n",
       "    .dataframe tbody tr th {\n",
       "        vertical-align: top;\n",
       "    }\n",
       "\n",
       "    .dataframe thead th {\n",
       "        text-align: right;\n",
       "    }\n",
       "</style>\n",
       "<table border=\"1\" class=\"dataframe\">\n",
       "  <thead>\n",
       "    <tr style=\"text-align: right;\">\n",
       "      <th></th>\n",
       "      <th>CountryCode</th>\n",
       "      <th>SeriesCode</th>\n",
       "      <th>DESCRIPTION</th>\n",
       "      <th>Unnamed: 3</th>\n",
       "    </tr>\n",
       "  </thead>\n",
       "  <tbody>\n",
       "    <tr>\n",
       "      <th>0</th>\n",
       "      <td>ABW</td>\n",
       "      <td>SP.POP.TOTL</td>\n",
       "      <td>Data sources : United Nations World Population...</td>\n",
       "      <td>NaN</td>\n",
       "    </tr>\n",
       "    <tr>\n",
       "      <th>1</th>\n",
       "      <td>ABW</td>\n",
       "      <td>SP.POP.GROW</td>\n",
       "      <td>Data sources: United Nations World Population ...</td>\n",
       "      <td>NaN</td>\n",
       "    </tr>\n",
       "    <tr>\n",
       "      <th>2</th>\n",
       "      <td>AFG</td>\n",
       "      <td>SP.POP.GROW</td>\n",
       "      <td>Data sources: United Nations World Population ...</td>\n",
       "      <td>NaN</td>\n",
       "    </tr>\n",
       "    <tr>\n",
       "      <th>3</th>\n",
       "      <td>AFG</td>\n",
       "      <td>NY.GDP.PCAP.PP.CD</td>\n",
       "      <td>Estimates are based on regression.</td>\n",
       "      <td>NaN</td>\n",
       "    </tr>\n",
       "    <tr>\n",
       "      <th>4</th>\n",
       "      <td>AFG</td>\n",
       "      <td>SP.POP.TOTL</td>\n",
       "      <td>Data sources : United Nations World Population...</td>\n",
       "      <td>NaN</td>\n",
       "    </tr>\n",
       "  </tbody>\n",
       "</table>\n",
       "</div>"
      ],
      "text/plain": [
       "  CountryCode         SeriesCode  \\\n",
       "0         ABW        SP.POP.TOTL   \n",
       "1         ABW        SP.POP.GROW   \n",
       "2         AFG        SP.POP.GROW   \n",
       "3         AFG  NY.GDP.PCAP.PP.CD   \n",
       "4         AFG        SP.POP.TOTL   \n",
       "\n",
       "                                         DESCRIPTION  Unnamed: 3  \n",
       "0  Data sources : United Nations World Population...         NaN  \n",
       "1  Data sources: United Nations World Population ...         NaN  \n",
       "2  Data sources: United Nations World Population ...         NaN  \n",
       "3                 Estimates are based on regression.         NaN  \n",
       "4  Data sources : United Nations World Population...         NaN  "
      ]
     },
     "execution_count": 2,
     "metadata": {},
     "output_type": "execute_result"
    }
   ],
   "source": [
    "df1 = hmf.read_data('csv', './data/EdStatsCountry-Series.csv')\n",
    "df1.head()"
   ]
  },
  {
   "cell_type": "markdown",
   "id": "80dbd77c-09b7-4927-8af7-c955ea7cbe75",
   "metadata": {},
   "source": [
    "<div class=\"alert-info\"\n",
    "     style=\"margin: auto;  \n",
    "            font-family:Helvetica, Arial, verdana, sans-serif\">\n",
    "    <p> <b>Ce fichier décrit la provenance de l'indicateur. </b></p>"
   ]
  },
  {
   "cell_type": "code",
   "execution_count": 3,
   "id": "1879262a-82a1-4df4-8d78-a13d56584b3f",
   "metadata": {},
   "outputs": [
    {
     "name": "stdout",
     "output_type": "stream",
     "text": [
      "*********************************** Data infos ***********************************\n",
      "<class 'pandas.core.frame.DataFrame'>\n",
      "RangeIndex: 613 entries, 0 to 612\n",
      "Data columns (total 4 columns):\n",
      " #   Column       Non-Null Count  Dtype  \n",
      "---  ------       --------------  -----  \n",
      " 0   CountryCode  613 non-null    object \n",
      " 1   SeriesCode   613 non-null    object \n",
      " 2   DESCRIPTION  613 non-null    object \n",
      " 3   Unnamed: 3   0 non-null      float64\n",
      "dtypes: float64(1), object(3)\n",
      "memory usage: 19.3+ KB\n",
      "\n",
      "Nombre de colonnes :  4 \n",
      "\n",
      "Nombre de lignes :  613 \n",
      "\n",
      "\n",
      " ********************************** Valeurs manquantes **********************************\n"
     ]
    },
    {
     "data": {
      "image/png": "[encoded data removed]",
      "text/plain": [
       "<Figure size 640x480 with 1 Axes>"
      ]
     },
     "metadata": {},
     "output_type": "display_data"
    },
    {
     "data": {
      "image/png": "[encoded data removed]",
      "text/plain": [
       "<Figure size 600x400 with 1 Axes>"
      ]
     },
     "metadata": {},
     "output_type": "display_data"
    },
    {
     "name": "stdout",
     "output_type": "stream",
     "text": [
      "Nombre total de valeurs manquantes :  613\n",
      "\n",
      " *********************************** Clés potentielles *********************************** \n",
      "\n",
      "['CountryCode', 'SeriesCode']\n",
      "['CountryCode', 'SeriesCode', 'DESCRIPTION']\n",
      "['CountryCode', 'SeriesCode', 'Unnamed: 3']\n",
      "['CountryCode', 'SeriesCode', 'DESCRIPTION', 'Unnamed: 3']\n",
      "\n",
      "Nombre de duplicated rows :  0 \n",
      "\n",
      "************************** Nombre de valeurs uniques par colonne ************************** \n",
      "\n",
      "CountryCode  :  211 \n",
      "\n",
      "SeriesCode  :  21 \n",
      "\n",
      "DESCRIPTION  :  97 \n",
      "\n",
      "Unnamed: 3  :  1 \n",
      "\n",
      "*************************** Les provenances les plus fréquentes *************************** \n",
      "\n",
      "Data sources : United Nations World Population Prospects                                       154\n",
      "Data sources: United Nations World Population Prospects                                        137\n",
      "Estimates are based on regression.                                                              84\n",
      "Data sources : Eurostat                                                                         54\n",
      "Derived using ratio of age group from WPP and World Bank population.                            24\n",
      "Excludes Abkhazia and South Ossetia.                                                             6\n",
      "Includes Former Spanish Sahara.                                                                  6\n",
      "Excludes Transnistria.                                                                           6\n",
      "Covers mainland Tanzania only.                                                                   6\n",
      "Data are for areas under the effective control of the Government of the Republic of Cyprus.      6\n",
      "Name: DESCRIPTION, dtype: int64\n"
     ]
    }
   ],
   "source": [
    "# On décrit le fichier\n",
    "hmf.describe_data(df1)\n",
    "\n",
    "# check potentielles clés\n",
    "print(\"\\n\",'*'*35,\"Clés potentielles\",'*'*35, \"\\n\")\n",
    "hmf.cles_potentielles(df=df1)\n",
    "\n",
    "\n",
    "#Check duplicated row\n",
    "print()\n",
    "print(\"Nombre de duplicated rows : \",len(df1[df1.duplicated(subset=['CountryCode', 'SeriesCode'])]),\"\\n\")\n",
    "\n",
    "hmf.infos_columns(df1)\n",
    "\n",
    "print(\"*\"*27,\"Les provenances les plus fréquentes\",\"*\"*27,\"\\n\")\n",
    "print(df1['DESCRIPTION'].value_counts().head(10))"
   ]
  },
  {
   "cell_type": "markdown",
   "id": "4008b8d5-2791-4d28-9af9-ab23792963e7",
   "metadata": {},
   "source": [
    "<div class=\"alert-warning\"> <b>Attention : </b> Ce jeu de donnés ne nous sera pas utile pour la suite de l'analyse.</div>"
   ]
  },
  {
   "cell_type": "markdown",
   "id": "325ef48f-ebec-4259-93d9-296079ff1b7d",
   "metadata": {},
   "source": [
    "### 2.2. Fichier EdStatsCountry"
   ]
  },
  {
   "cell_type": "code",
   "execution_count": 4,
   "id": "10cd727a-07dd-427d-9689-899f07ba46d4",
   "metadata": {},
   "outputs": [
    {
     "data": {
      "text/html": [
       "<div>\n",
       "<style scoped>\n",
       "    .dataframe tbody tr th:only-of-type {\n",
       "        vertical-align: middle;\n",
       "    }\n",
       "\n",
       "    .dataframe tbody tr th {\n",
       "        vertical-align: top;\n",
       "    }\n",
       "\n",
       "    .dataframe thead th {\n",
       "        text-align: right;\n",
       "    }\n",
       "</style>\n",
       "<table border=\"1\" class=\"dataframe\">\n",
       "  <thead>\n",
       "    <tr style=\"text-align: right;\">\n",
       "      <th></th>\n",
       "      <th>Country Code</th>\n",
       "      <th>Short Name</th>\n",
       "      <th>Table Name</th>\n",
       "      <th>Long Name</th>\n",
       "      <th>2-alpha code</th>\n",
       "      <th>Currency Unit</th>\n",
       "      <th>Special Notes</th>\n",
       "      <th>Region</th>\n",
       "      <th>Income Group</th>\n",
       "      <th>WB-2 code</th>\n",
       "      <th>...</th>\n",
       "      <th>IMF data dissemination standard</th>\n",
       "      <th>Latest population census</th>\n",
       "      <th>Latest household survey</th>\n",
       "      <th>Source of most recent Income and expenditure data</th>\n",
       "      <th>Vital registration complete</th>\n",
       "      <th>Latest agricultural census</th>\n",
       "      <th>Latest industrial data</th>\n",
       "      <th>Latest trade data</th>\n",
       "      <th>Latest water withdrawal data</th>\n",
       "      <th>Unnamed: 31</th>\n",
       "    </tr>\n",
       "  </thead>\n",
       "  <tbody>\n",
       "    <tr>\n",
       "      <th>0</th>\n",
       "      <td>ABW</td>\n",
       "      <td>Aruba</td>\n",
       "      <td>Aruba</td>\n",
       "      <td>Aruba</td>\n",
       "      <td>AW</td>\n",
       "      <td>Aruban florin</td>\n",
       "      <td>SNA data for 2000-2011 are updated from offici...</td>\n",
       "      <td>Latin America &amp; Caribbean</td>\n",
       "      <td>High income: nonOECD</td>\n",
       "      <td>AW</td>\n",
       "      <td>...</td>\n",
       "      <td>NaN</td>\n",
       "      <td>2010</td>\n",
       "      <td>NaN</td>\n",
       "      <td>NaN</td>\n",
       "      <td>Yes</td>\n",
       "      <td>NaN</td>\n",
       "      <td>NaN</td>\n",
       "      <td>2012.0</td>\n",
       "      <td>NaN</td>\n",
       "      <td>NaN</td>\n",
       "    </tr>\n",
       "    <tr>\n",
       "      <th>1</th>\n",
       "      <td>AFG</td>\n",
       "      <td>Afghanistan</td>\n",
       "      <td>Afghanistan</td>\n",
       "      <td>Islamic State of Afghanistan</td>\n",
       "      <td>AF</td>\n",
       "      <td>Afghan afghani</td>\n",
       "      <td>Fiscal year end: March 20; reporting period fo...</td>\n",
       "      <td>South Asia</td>\n",
       "      <td>Low income</td>\n",
       "      <td>AF</td>\n",
       "      <td>...</td>\n",
       "      <td>General Data Dissemination System (GDDS)</td>\n",
       "      <td>1979</td>\n",
       "      <td>Multiple Indicator Cluster Survey (MICS), 2010/11</td>\n",
       "      <td>Integrated household survey (IHS), 2008</td>\n",
       "      <td>NaN</td>\n",
       "      <td>2013/14</td>\n",
       "      <td>NaN</td>\n",
       "      <td>2012.0</td>\n",
       "      <td>2000</td>\n",
       "      <td>NaN</td>\n",
       "    </tr>\n",
       "  </tbody>\n",
       "</table>\n",
       "<p>2 rows × 32 columns</p>\n",
       "</div>"
      ],
      "text/plain": [
       "  Country Code   Short Name   Table Name                     Long Name  \\\n",
       "0          ABW        Aruba        Aruba                         Aruba   \n",
       "1          AFG  Afghanistan  Afghanistan  Islamic State of Afghanistan   \n",
       "\n",
       "  2-alpha code   Currency Unit  \\\n",
       "0           AW   Aruban florin   \n",
       "1           AF  Afghan afghani   \n",
       "\n",
       "                                       Special Notes  \\\n",
       "0  SNA data for 2000-2011 are updated from offici...   \n",
       "1  Fiscal year end: March 20; reporting period fo...   \n",
       "\n",
       "                      Region          Income Group WB-2 code  ...  \\\n",
       "0  Latin America & Caribbean  High income: nonOECD        AW  ...   \n",
       "1                 South Asia            Low income        AF  ...   \n",
       "\n",
       "            IMF data dissemination standard  Latest population census  \\\n",
       "0                                       NaN                      2010   \n",
       "1  General Data Dissemination System (GDDS)                      1979   \n",
       "\n",
       "                             Latest household survey  \\\n",
       "0                                                NaN   \n",
       "1  Multiple Indicator Cluster Survey (MICS), 2010/11   \n",
       "\n",
       "  Source of most recent Income and expenditure data  \\\n",
       "0                                               NaN   \n",
       "1           Integrated household survey (IHS), 2008   \n",
       "\n",
       "  Vital registration complete Latest agricultural census  \\\n",
       "0                         Yes                        NaN   \n",
       "1                         NaN                    2013/14   \n",
       "\n",
       "  Latest industrial data Latest trade data Latest water withdrawal data  \\\n",
       "0                    NaN            2012.0                          NaN   \n",
       "1                    NaN            2012.0                         2000   \n",
       "\n",
       "  Unnamed: 31  \n",
       "0         NaN  \n",
       "1         NaN  \n",
       "\n",
       "[2 rows x 32 columns]"
      ]
     },
     "execution_count": 4,
     "metadata": {},
     "output_type": "execute_result"
    }
   ],
   "source": [
    "df2 = hmf.read_data('csv', './data/EdStatsCountry.csv')\n",
    "df2.head(2)"
   ]
  },
  {
   "cell_type": "markdown",
   "id": "26f61ff3-2854-47ae-bed6-3591e7246b57",
   "metadata": {},
   "source": [
    "<div class=\"alert-info\"\n",
    "     style=\"margin: auto;  \n",
    "            font-family:Helvetica, Arial, verdana, sans-serif\">\n",
    "    <p><b> Ce fichier donne des informations sur les pays</b> (leur bloc géographique, leur catégorie en fonction du revenu, etc...).<br><b> Il contient des informations pertinentes pour l'analyse.</b></p>"
   ]
  },
  {
   "cell_type": "code",
   "execution_count": 5,
   "id": "e6131408-0ff7-4d49-b2ff-26210872ccdd",
   "metadata": {},
   "outputs": [
    {
     "name": "stdout",
     "output_type": "stream",
     "text": [
      "*********************************** Data infos ***********************************\n",
      "<class 'pandas.core.frame.DataFrame'>\n",
      "RangeIndex: 241 entries, 0 to 240\n",
      "Data columns (total 32 columns):\n",
      " #   Column                                             Non-Null Count  Dtype  \n",
      "---  ------                                             --------------  -----  \n",
      " 0   Country Code                                       241 non-null    object \n",
      " 1   Short Name                                         241 non-null    object \n",
      " 2   Table Name                                         241 non-null    object \n",
      " 3   Long Name                                          241 non-null    object \n",
      " 4   2-alpha code                                       238 non-null    object \n",
      " 5   Currency Unit                                      215 non-null    object \n",
      " 6   Special Notes                                      145 non-null    object \n",
      " 7   Region                                             214 non-null    object \n",
      " 8   Income Group                                       214 non-null    object \n",
      " 9   WB-2 code                                          240 non-null    object \n",
      " 10  National accounts base year                        205 non-null    object \n",
      " 11  National accounts reference year                   32 non-null     float64\n",
      " 12  SNA price valuation                                197 non-null    object \n",
      " 13  Lending category                                   144 non-null    object \n",
      " 14  Other groups                                       58 non-null     object \n",
      " 15  System of National Accounts                        215 non-null    object \n",
      " 16  Alternative conversion factor                      47 non-null     object \n",
      " 17  PPP survey year                                    145 non-null    object \n",
      " 18  Balance of Payments Manual in use                  181 non-null    object \n",
      " 19  External debt Reporting status                     124 non-null    object \n",
      " 20  System of trade                                    200 non-null    object \n",
      " 21  Government Accounting concept                      161 non-null    object \n",
      " 22  IMF data dissemination standard                    181 non-null    object \n",
      " 23  Latest population census                           213 non-null    object \n",
      " 24  Latest household survey                            141 non-null    object \n",
      " 25  Source of most recent Income and expenditure data  160 non-null    object \n",
      " 26  Vital registration complete                        111 non-null    object \n",
      " 27  Latest agricultural census                         142 non-null    object \n",
      " 28  Latest industrial data                             107 non-null    float64\n",
      " 29  Latest trade data                                  185 non-null    float64\n",
      " 30  Latest water withdrawal data                       179 non-null    object \n",
      " 31  Unnamed: 31                                        0 non-null      float64\n",
      "dtypes: float64(4), object(28)\n",
      "memory usage: 60.4+ KB\n",
      "\n",
      "Nombre de colonnes :  32 \n",
      "\n",
      "Nombre de lignes :  241 \n",
      "\n",
      "\n",
      " ********************************** Valeurs manquantes **********************************\n"
     ]
    },
    {
     "data": {
      "image/png": "[encoded data removed]",
      "text/plain": [
       "<Figure size 640x480 with 1 Axes>"
      ]
     },
     "metadata": {},
     "output_type": "display_data"
    },
    {
     "data": {
      "image/png": "[encoded data removed]",
      "text/plain": [
       "<Figure size 900x400 with 1 Axes>"
      ]
     },
     "metadata": {},
     "output_type": "display_data"
    },
    {
     "name": "stdout",
     "output_type": "stream",
     "text": [
      "Nombre total de valeurs manquantes :  2354\n",
      "\n",
      " ****************************** Clés potentielles ****************************** \n",
      "\n",
      "['Country Code']\n",
      "['Short Name']\n",
      "['Table Name']\n",
      "Nombre maximum autorisé atteint. Veuillez augmenter cette valeur si vous voulez rechercher davantage de clés primaires candidates.\n",
      "\n",
      "Nombre de duplicated rows :  0 \n",
      "\n",
      "************************** Nombre de valeurs uniques par colonne ************************** \n",
      "\n",
      "Country Code  :  241 \n",
      "\n",
      "Short Name  :  241 \n",
      "\n",
      "Table Name  :  241 \n",
      "\n",
      "Long Name  :  241 \n",
      "\n",
      "2-alpha code  :  239 \n",
      "\n",
      "Currency Unit  :  153 \n",
      "\n",
      "Special Notes  :  132 \n",
      "\n",
      "Region  :  8 \n",
      "\n",
      "Income Group  :  6 \n",
      "\n",
      "WB-2 code  :  241 \n",
      "\n",
      "National accounts base year  :  44 \n",
      "\n",
      "National accounts reference year  :  12 \n",
      "\n",
      "SNA price valuation  :  3 \n",
      "\n",
      "Lending category  :  4 \n",
      "\n",
      "Other groups  :  3 \n",
      "\n",
      "System of National Accounts  :  4 \n",
      "\n",
      "Alternative conversion factor  :  33 \n",
      "\n",
      "PPP survey year  :  4 \n",
      "\n",
      "Balance of Payments Manual in use  :  2 \n",
      "\n",
      "External debt Reporting status  :  4 \n",
      "\n",
      "System of trade  :  3 \n",
      "\n",
      "Government Accounting concept  :  3 \n",
      "\n",
      "IMF data dissemination standard  :  3 \n",
      "\n",
      "Latest population census  :  28 \n",
      "\n",
      "Latest household survey  :  61 \n",
      "\n",
      "Source of most recent Income and expenditure data  :  76 \n",
      "\n",
      "Vital registration complete  :  3 \n",
      "\n",
      "Latest agricultural census  :  36 \n",
      "\n",
      "Latest industrial data  :  12 \n",
      "\n",
      "Latest trade data  :  14 \n",
      "\n",
      "Latest water withdrawal data  :  21 \n",
      "\n",
      "Unnamed: 31  :  1 \n",
      "\n"
     ]
    }
   ],
   "source": [
    "# On décrit le fichier\n",
    "hmf.describe_data(df2, figsize=(9,4))\n",
    "\n",
    "#check potentielles clés\n",
    "print(\"\\n\",'*'*30,\"Clés potentielles\",'*'*30, \"\\n\")\n",
    "hmf.cles_potentielles(df=df2, max_allowed=2)\n",
    "\n",
    "#Check duplicated row\n",
    "print()\n",
    "print(\"Nombre de duplicated rows : \",len(df2[df2['Country Code'].duplicated()]),\"\\n\")\n",
    "\n",
    "hmf.infos_columns(df2)"
   ]
  },
  {
   "cell_type": "markdown",
   "id": "85fe1216-ad72-4c74-9a37-46d1845eac76",
   "metadata": {},
   "source": [
    "#### Un peu plus d'exploration ..."
   ]
  },
  {
   "cell_type": "code",
   "execution_count": 6,
   "id": "87c3651a-85fb-4b54-a16e-ac2f3cb45b6b",
   "metadata": {},
   "outputs": [
    {
     "data": {
      "image/png": "[encoded data removed]",
      "text/plain": [
       "<Figure size 640x480 with 1 Axes>"
      ]
     },
     "metadata": {},
     "output_type": "display_data"
    },
    {
     "data": {
      "image/png": "[encoded data removed]",
      "text/plain": [
       "<Figure size 900x600 with 1 Axes>"
      ]
     },
     "metadata": {},
     "output_type": "display_data"
    }
   ],
   "source": [
    "# Region\n",
    "df2['Region'].value_counts().plot(kind='bar')\n",
    "plt.title('Nombre de pays par bloc géographique')\n",
    "plt.show()\n",
    "\n",
    "# Region x Income\n",
    "sns.set_style('darkgrid')\n",
    "plt.figure(figsize=(9,6))\n",
    "sns.histplot(data=df2, x='Region', hue='Income Group', multiple='stack', palette=\"RdGy\")\n",
    "plt.xticks(rotation=45)\n",
    "plt.title(' Blocs géographiques en fonction du revenu')\n",
    "plt.show()"
   ]
  },
  {
   "cell_type": "markdown",
   "id": "7b3d7158-9627-4949-b738-74bdf71c7fa8",
   "metadata": {},
   "source": [
    "<div class=\"alert-warning\"> <b>Attention : </b> Les colonnes <b>Income group</b> et <b>Region</b> contiennent chacune <b>27 valeurs manquantes</b>.</div>"
   ]
  },
  {
   "cell_type": "markdown",
   "id": "070fceb3-3141-487d-8ddd-8c4b1a29dc4a",
   "metadata": {},
   "source": [
    "#### Préparation des données pertientes du fichier ..."
   ]
  },
  {
   "cell_type": "code",
   "execution_count": 7,
   "id": "3b2477e4-5e2d-4d89-a21f-a08c0006ebb9",
   "metadata": {},
   "outputs": [
    {
     "name": "stdout",
     "output_type": "stream",
     "text": [
      "il ya 27 groupements de pays et erreurs parmis le noms de pays\n"
     ]
    },
    {
     "data": {
      "text/plain": [
       "['Arab World',\n",
       " 'East Asia & Pacific (developing only)',\n",
       " 'East Asia & Pacific (all income levels)',\n",
       " 'Europe & Central Asia (developing only)',\n",
       " 'Europe & Central Asia (all income levels)',\n",
       " 'Euro area',\n",
       " 'European Union',\n",
       " 'Gibraltar',\n",
       " 'High income',\n",
       " 'Heavily indebted poor countries (HIPC)',\n",
       " 'Latin America & Caribbean (developing only)',\n",
       " 'Latin America & Caribbean (all income levels)',\n",
       " 'Least developed countries: UN classification',\n",
       " 'Low income',\n",
       " 'Lower middle income',\n",
       " 'Low & middle income',\n",
       " 'Middle East & North Africa (all income levels)',\n",
       " 'Middle income',\n",
       " 'Middle East & North Africa (developing only)',\n",
       " 'North America',\n",
       " 'Nauru',\n",
       " 'OECD members',\n",
       " 'South Asia',\n",
       " 'Sub-Saharan Africa (developing only)',\n",
       " 'Sub-Saharan Africa (all income levels)',\n",
       " 'Upper middle income',\n",
       " 'World']"
      ]
     },
     "metadata": {},
     "output_type": "display_data"
    }
   ],
   "source": [
    "df2[df2['Region'].isnull()].head()\n",
    "erreurs_noms_pays = df2[df2['Region'].isnull()][\"Short Name\"].unique().tolist()\n",
    "print(\"il ya\",len(erreurs_noms_pays), \"groupements de pays et erreurs parmis le noms de pays\")\n",
    "display(df2[df2['Region'].isnull()][\"Short Name\"].unique().tolist())"
   ]
  },
  {
   "cell_type": "markdown",
   "id": "ff33d2e0-765b-424f-8dd9-a338ad0a4783",
   "metadata": {},
   "source": [
    "<div class=\"alert-info\"\n",
    "     style=\"margin: auto;  \n",
    "            font-family:Helvetica, Arial, verdana, sans-serif\">\n",
    "    <p> En regardant de plus près, nous pouvons constater que ces <b>27 valeurs manquantes</b> au niveau de Income group et Region sont <b>concernent les groupements de pays</b>.</p>\n",
    "    <p><b> Nous allons supprimer les groupementes de pays pour la suite de l'analyse.</b> </p>"
   ]
  },
  {
   "cell_type": "code",
   "execution_count": 8,
   "id": "8b71d6d5-d274-45a1-ad48-8d9bed9e93c2",
   "metadata": {},
   "outputs": [
    {
     "name": "stdout",
     "output_type": "stream",
     "text": [
      "*********************************** Data infos ***********************************\n",
      "<class 'pandas.core.frame.DataFrame'>\n",
      "Int64Index: 214 entries, 0 to 240\n",
      "Data columns (total 4 columns):\n",
      " #   Column        Non-Null Count  Dtype \n",
      "---  ------        --------------  ----- \n",
      " 0   Country Code  214 non-null    object\n",
      " 1   Country       214 non-null    object\n",
      " 2   Region        214 non-null    object\n",
      " 3   Income Group  214 non-null    object\n",
      "dtypes: object(4)\n",
      "memory usage: 8.4+ KB\n",
      "\n",
      "Nombre de colonnes :  4 \n",
      "\n",
      "Nombre de lignes :  214 \n",
      "\n",
      "\n",
      " ********************************** Valeurs manquantes **********************************\n"
     ]
    },
    {
     "data": {
      "image/png": "[encoded data removed]",
      "text/plain": [
       "<Figure size 640x480 with 1 Axes>"
      ]
     },
     "metadata": {},
     "output_type": "display_data"
    },
    {
     "data": {
      "image/png": "[encoded data removed]",
      "text/plain": [
       "<Figure size 600x400 with 1 Axes>"
      ]
     },
     "metadata": {},
     "output_type": "display_data"
    },
    {
     "name": "stdout",
     "output_type": "stream",
     "text": [
      "Nombre total de valeurs manquantes :  0\n",
      "************************** Nombre de valeurs uniques par colonne ************************** \n",
      "\n",
      "Country Code  :  241 \n",
      "\n",
      "Short Name  :  241 \n",
      "\n",
      "Table Name  :  241 \n",
      "\n",
      "Long Name  :  241 \n",
      "\n",
      "2-alpha code  :  239 \n",
      "\n",
      "Currency Unit  :  153 \n",
      "\n",
      "Special Notes  :  132 \n",
      "\n",
      "Region  :  8 \n",
      "\n",
      "Income Group  :  6 \n",
      "\n",
      "WB-2 code  :  241 \n",
      "\n",
      "National accounts base year  :  44 \n",
      "\n",
      "National accounts reference year  :  12 \n",
      "\n",
      "SNA price valuation  :  3 \n",
      "\n",
      "Lending category  :  4 \n",
      "\n",
      "Other groups  :  3 \n",
      "\n",
      "System of National Accounts  :  4 \n",
      "\n",
      "Alternative conversion factor  :  33 \n",
      "\n",
      "PPP survey year  :  4 \n",
      "\n",
      "Balance of Payments Manual in use  :  2 \n",
      "\n",
      "External debt Reporting status  :  4 \n",
      "\n",
      "System of trade  :  3 \n",
      "\n",
      "Government Accounting concept  :  3 \n",
      "\n",
      "IMF data dissemination standard  :  3 \n",
      "\n",
      "Latest population census  :  28 \n",
      "\n",
      "Latest household survey  :  61 \n",
      "\n",
      "Source of most recent Income and expenditure data  :  76 \n",
      "\n",
      "Vital registration complete  :  3 \n",
      "\n",
      "Latest agricultural census  :  36 \n",
      "\n",
      "Latest industrial data  :  12 \n",
      "\n",
      "Latest trade data  :  14 \n",
      "\n",
      "Latest water withdrawal data  :  21 \n",
      "\n",
      "Unnamed: 31  :  1 \n",
      "\n"
     ]
    }
   ],
   "source": [
    "df2_final = df2[['Country Code', 'Short Name','Region', 'Income Group' ]]\n",
    "df2_final = df2_final.dropna()\n",
    "df2_final.rename(columns={'Short Name':'Country'}, inplace=True)\n",
    "\n",
    "hmf.describe_data(df2_final)\n",
    "\n",
    "hmf.infos_columns(df2)"
   ]
  },
  {
   "cell_type": "markdown",
   "id": "78ef0f9b-6f60-460e-9a79-96071eb4a1d9",
   "metadata": {},
   "source": [
    "### 2.3. Fichier EdStatsData"
   ]
  },
  {
   "cell_type": "code",
   "execution_count": 9,
   "id": "269481da-57c2-4e58-a524-1e2a8fdd015d",
   "metadata": {},
   "outputs": [
    {
     "data": {
      "text/html": [
       "<div>\n",
       "<style scoped>\n",
       "    .dataframe tbody tr th:only-of-type {\n",
       "        vertical-align: middle;\n",
       "    }\n",
       "\n",
       "    .dataframe tbody tr th {\n",
       "        vertical-align: top;\n",
       "    }\n",
       "\n",
       "    .dataframe thead th {\n",
       "        text-align: right;\n",
       "    }\n",
       "</style>\n",
       "<table border=\"1\" class=\"dataframe\">\n",
       "  <thead>\n",
       "    <tr style=\"text-align: right;\">\n",
       "      <th></th>\n",
       "      <th>Country Name</th>\n",
       "      <th>Country Code</th>\n",
       "      <th>Indicator Name</th>\n",
       "      <th>Indicator Code</th>\n",
       "      <th>1970</th>\n",
       "      <th>1971</th>\n",
       "      <th>1972</th>\n",
       "      <th>1973</th>\n",
       "      <th>1974</th>\n",
       "      <th>1975</th>\n",
       "      <th>...</th>\n",
       "      <th>2060</th>\n",
       "      <th>2065</th>\n",
       "      <th>2070</th>\n",
       "      <th>2075</th>\n",
       "      <th>2080</th>\n",
       "      <th>2085</th>\n",
       "      <th>2090</th>\n",
       "      <th>2095</th>\n",
       "      <th>2100</th>\n",
       "      <th>Unnamed: 69</th>\n",
       "    </tr>\n",
       "  </thead>\n",
       "  <tbody>\n",
       "    <tr>\n",
       "      <th>0</th>\n",
       "      <td>Arab World</td>\n",
       "      <td>ARB</td>\n",
       "      <td>Adjusted net enrolment rate, lower secondary, ...</td>\n",
       "      <td>UIS.NERA.2</td>\n",
       "      <td>NaN</td>\n",
       "      <td>NaN</td>\n",
       "      <td>NaN</td>\n",
       "      <td>NaN</td>\n",
       "      <td>NaN</td>\n",
       "      <td>NaN</td>\n",
       "      <td>...</td>\n",
       "      <td>NaN</td>\n",
       "      <td>NaN</td>\n",
       "      <td>NaN</td>\n",
       "      <td>NaN</td>\n",
       "      <td>NaN</td>\n",
       "      <td>NaN</td>\n",
       "      <td>NaN</td>\n",
       "      <td>NaN</td>\n",
       "      <td>NaN</td>\n",
       "      <td>NaN</td>\n",
       "    </tr>\n",
       "    <tr>\n",
       "      <th>1</th>\n",
       "      <td>Arab World</td>\n",
       "      <td>ARB</td>\n",
       "      <td>Adjusted net enrolment rate, lower secondary, ...</td>\n",
       "      <td>UIS.NERA.2.F</td>\n",
       "      <td>NaN</td>\n",
       "      <td>NaN</td>\n",
       "      <td>NaN</td>\n",
       "      <td>NaN</td>\n",
       "      <td>NaN</td>\n",
       "      <td>NaN</td>\n",
       "      <td>...</td>\n",
       "      <td>NaN</td>\n",
       "      <td>NaN</td>\n",
       "      <td>NaN</td>\n",
       "      <td>NaN</td>\n",
       "      <td>NaN</td>\n",
       "      <td>NaN</td>\n",
       "      <td>NaN</td>\n",
       "      <td>NaN</td>\n",
       "      <td>NaN</td>\n",
       "      <td>NaN</td>\n",
       "    </tr>\n",
       "  </tbody>\n",
       "</table>\n",
       "<p>2 rows × 70 columns</p>\n",
       "</div>"
      ],
      "text/plain": [
       "  Country Name Country Code  \\\n",
       "0   Arab World          ARB   \n",
       "1   Arab World          ARB   \n",
       "\n",
       "                                      Indicator Name Indicator Code  1970  \\\n",
       "0  Adjusted net enrolment rate, lower secondary, ...     UIS.NERA.2   NaN   \n",
       "1  Adjusted net enrolment rate, lower secondary, ...   UIS.NERA.2.F   NaN   \n",
       "\n",
       "   1971  1972  1973  1974  1975  ...  2060  2065  2070  2075  2080  2085  \\\n",
       "0   NaN   NaN   NaN   NaN   NaN  ...   NaN   NaN   NaN   NaN   NaN   NaN   \n",
       "1   NaN   NaN   NaN   NaN   NaN  ...   NaN   NaN   NaN   NaN   NaN   NaN   \n",
       "\n",
       "   2090  2095  2100  Unnamed: 69  \n",
       "0   NaN   NaN   NaN          NaN  \n",
       "1   NaN   NaN   NaN          NaN  \n",
       "\n",
       "[2 rows x 70 columns]"
      ]
     },
     "execution_count": 9,
     "metadata": {},
     "output_type": "execute_result"
    }
   ],
   "source": [
    "df3 = hmf.read_data('csv', './data/EdStatsData.csv')\n",
    "df3.head(2)"
   ]
  },
  {
   "cell_type": "markdown",
   "id": "c8ad5c31-bf36-4aa0-b8fd-21cb5314221a",
   "metadata": {},
   "source": [
    "<div class=\"alert-info\"\n",
    "     style=\"margin: auto;  \n",
    "            font-family:Helvetica, Arial, verdana, sans-serif\">\n",
    "    <p>De manière générale, ce dataframe présente les <b>valeurs des indicateurs en fonction des années</b> (comprises entre 1970 et 2040). </p>\n",
    "        <ul>Les colonnes pertinentes pour l'analyse sont :\n",
    "            <li><b>Country Code</b> : clé pour des éventuelles fusions.</li>\n",
    "            <li><b>Country Name</b> : nous permettra d'avoir le nom du pays</li>\n",
    "            <li><b>Indicator Code</b> : clé pour les éventuelles fusion</li>\n",
    "            <li><b>Indicator Name</b> : nous pemettra d'avoir le nom de l'indicateur</li>\n",
    "            <li><b>Période à analyser</b> : nous allons étudier les <b>données comprises entre 2000 et 2015</b>.</li>\n",
    "        </ul> </div>"
   ]
  },
  {
   "cell_type": "code",
   "execution_count": 10,
   "id": "731b331a-1013-48a1-93ae-0ab22478464f",
   "metadata": {},
   "outputs": [
    {
     "name": "stdout",
     "output_type": "stream",
     "text": [
      "*********************************** Data infos ***********************************\n",
      "<class 'pandas.core.frame.DataFrame'>\n",
      "RangeIndex: 886930 entries, 0 to 886929\n",
      "Data columns (total 70 columns):\n",
      " #   Column          Non-Null Count   Dtype  \n",
      "---  ------          --------------   -----  \n",
      " 0   Country Name    886930 non-null  object \n",
      " 1   Country Code    886930 non-null  object \n",
      " 2   Indicator Name  886930 non-null  object \n",
      " 3   Indicator Code  886930 non-null  object \n",
      " 4   1970            72288 non-null   float64\n",
      " 5   1971            35537 non-null   float64\n",
      " 6   1972            35619 non-null   float64\n",
      " 7   1973            35545 non-null   float64\n",
      " 8   1974            35730 non-null   float64\n",
      " 9   1975            87306 non-null   float64\n",
      " 10  1976            37483 non-null   float64\n",
      " 11  1977            37574 non-null   float64\n",
      " 12  1978            37576 non-null   float64\n",
      " 13  1979            36809 non-null   float64\n",
      " 14  1980            89122 non-null   float64\n",
      " 15  1981            38777 non-null   float64\n",
      " 16  1982            37511 non-null   float64\n",
      " 17  1983            38460 non-null   float64\n",
      " 18  1984            38606 non-null   float64\n",
      " 19  1985            90296 non-null   float64\n",
      " 20  1986            39372 non-null   float64\n",
      " 21  1987            38641 non-null   float64\n",
      " 22  1988            38552 non-null   float64\n",
      " 23  1989            37540 non-null   float64\n",
      " 24  1990            124405 non-null  float64\n",
      " 25  1991            74437 non-null   float64\n",
      " 26  1992            75543 non-null   float64\n",
      " 27  1993            75793 non-null   float64\n",
      " 28  1994            77462 non-null   float64\n",
      " 29  1995            131361 non-null  float64\n",
      " 30  1996            76807 non-null   float64\n",
      " 31  1997            73453 non-null   float64\n",
      " 32  1998            84914 non-null   float64\n",
      " 33  1999            118839 non-null  float64\n",
      " 34  2000            176676 non-null  float64\n",
      " 35  2001            123509 non-null  float64\n",
      " 36  2002            124205 non-null  float64\n",
      " 37  2003            130363 non-null  float64\n",
      " 38  2004            128814 non-null  float64\n",
      " 39  2005            184108 non-null  float64\n",
      " 40  2006            140312 non-null  float64\n",
      " 41  2007            137272 non-null  float64\n",
      " 42  2008            134387 non-null  float64\n",
      " 43  2009            142108 non-null  float64\n",
      " 44  2010            242442 non-null  float64\n",
      " 45  2011            146012 non-null  float64\n",
      " 46  2012            147264 non-null  float64\n",
      " 47  2013            137509 non-null  float64\n",
      " 48  2014            113789 non-null  float64\n",
      " 49  2015            131058 non-null  float64\n",
      " 50  2016            16460 non-null   float64\n",
      " 51  2017            143 non-null     float64\n",
      " 52  2020            51436 non-null   float64\n",
      " 53  2025            51436 non-null   float64\n",
      " 54  2030            51436 non-null   float64\n",
      " 55  2035            51436 non-null   float64\n",
      " 56  2040            51436 non-null   float64\n",
      " 57  2045            51436 non-null   float64\n",
      " 58  2050            51436 non-null   float64\n",
      " 59  2055            51436 non-null   float64\n",
      " 60  2060            51436 non-null   float64\n",
      " 61  2065            51436 non-null   float64\n",
      " 62  2070            51436 non-null   float64\n",
      " 63  2075            51436 non-null   float64\n",
      " 64  2080            51436 non-null   float64\n",
      " 65  2085            51436 non-null   float64\n",
      " 66  2090            51436 non-null   float64\n",
      " 67  2095            51436 non-null   float64\n",
      " 68  2100            51436 non-null   float64\n",
      " 69  Unnamed: 69     0 non-null       float64\n",
      "dtypes: float64(66), object(4)\n",
      "memory usage: 473.7+ MB\n",
      "\n",
      "Nombre de colonnes :  70 \n",
      "\n",
      "Nombre de lignes :  886930 \n",
      "\n",
      "\n",
      " ********************************** Valeurs manquantes **********************************\n"
     ]
    },
    {
     "data": {
      "image/png": "[encoded data removed]",
      "text/plain": [
       "<Figure size 640x480 with 1 Axes>"
      ]
     },
     "metadata": {},
     "output_type": "display_data"
    },
    {
     "data": {
      "image/png": "[encoded data removed]",
      "text/plain": [
       "<Figure size 2000x400 with 1 Axes>"
      ]
     },
     "metadata": {},
     "output_type": "display_data"
    },
    {
     "name": "stdout",
     "output_type": "stream",
     "text": [
      "Nombre total de valeurs manquantes :  53455179\n",
      "\n",
      " ****************************** Clés potentielles ****************************** \n",
      "\n",
      "['Country Name', 'Indicator Name']\n"
     ]
    },
    {
     "ename": "MemoryError",
     "evalue": "Unable to allocate 447. MiB for an array with shape (66, 886930) and data type float64",
     "output_type": "error",
     "traceback": [
      "\u001b[1;31m---------------------------------------------------------------------------\u001b[0m",
      "\u001b[1;31mMemoryError\u001b[0m                               Traceback (most recent call last)",
      "Input \u001b[1;32mIn [10]\u001b[0m, in \u001b[0;36m<cell line: 5>\u001b[1;34m()\u001b[0m\n\u001b[0;32m      3\u001b[0m \u001b[38;5;66;03m#check potentielles clés\u001b[39;00m\n\u001b[0;32m      4\u001b[0m \u001b[38;5;28mprint\u001b[39m(\u001b[38;5;124m\"\u001b[39m\u001b[38;5;130;01m\\n\u001b[39;00m\u001b[38;5;124m\"\u001b[39m,\u001b[38;5;124m'\u001b[39m\u001b[38;5;124m*\u001b[39m\u001b[38;5;124m'\u001b[39m\u001b[38;5;241m*\u001b[39m\u001b[38;5;241m30\u001b[39m,\u001b[38;5;124m\"\u001b[39m\u001b[38;5;124mClés potentielles\u001b[39m\u001b[38;5;124m\"\u001b[39m,\u001b[38;5;124m'\u001b[39m\u001b[38;5;124m*\u001b[39m\u001b[38;5;124m'\u001b[39m\u001b[38;5;241m*\u001b[39m\u001b[38;5;241m30\u001b[39m, \u001b[38;5;124m\"\u001b[39m\u001b[38;5;130;01m\\n\u001b[39;00m\u001b[38;5;124m\"\u001b[39m)\n\u001b[1;32m----> 5\u001b[0m \u001b[43mhmf\u001b[49m\u001b[38;5;241;43m.\u001b[39;49m\u001b[43mcles_potentielles\u001b[49m\u001b[43m(\u001b[49m\u001b[43mdf\u001b[49m\u001b[38;5;241;43m=\u001b[39;49m\u001b[43mdf3\u001b[49m\u001b[43m,\u001b[49m\u001b[43m \u001b[49m\u001b[43mmax_allowed\u001b[49m\u001b[38;5;241;43m=\u001b[39;49m\u001b[38;5;241;43m2\u001b[39;49m\u001b[43m)\u001b[49m\n\u001b[0;32m      7\u001b[0m \u001b[38;5;66;03m#Check duplicated row\u001b[39;00m\n\u001b[0;32m      8\u001b[0m \u001b[38;5;28mprint\u001b[39m()\n",
      "File \u001b[1;32m~\\Data Scientist path\\projet_2\\home_made_functions.py:104\u001b[0m, in \u001b[0;36mcles_potentielles\u001b[1;34m(df, max_allowed)\u001b[0m\n\u001b[0;32m    102\u001b[0m found \u001b[38;5;241m=\u001b[39m \u001b[38;5;241m0\u001b[39m\n\u001b[0;32m    103\u001b[0m \u001b[38;5;28;01mfor\u001b[39;00m candidate \u001b[38;5;129;01min\u001b[39;00m combi_list:\n\u001b[1;32m--> 104\u001b[0m     tmp \u001b[38;5;241m=\u001b[39m \u001b[43mdf\u001b[49m\u001b[38;5;241;43m.\u001b[39;49m\u001b[43mdrop_duplicates\u001b[49m\u001b[43m(\u001b[49m\u001b[43mcandidate\u001b[49m\u001b[43m)\u001b[49m\n\u001b[0;32m    105\u001b[0m     \u001b[38;5;28;01mif\u001b[39;00m \u001b[38;5;28mlen\u001b[39m(tmp) \u001b[38;5;241m==\u001b[39m \u001b[38;5;28mlen\u001b[39m(df):\n\u001b[0;32m    106\u001b[0m         \u001b[38;5;28mprint\u001b[39m( \u001b[38;5;28mlist\u001b[39m(candidate) )\n",
      "File \u001b[1;32m~\\anaconda3\\envs\\geodata\\lib\\site-packages\\pandas\\util\\_decorators.py:311\u001b[0m, in \u001b[0;36mdeprecate_nonkeyword_arguments.<locals>.decorate.<locals>.wrapper\u001b[1;34m(*args, **kwargs)\u001b[0m\n\u001b[0;32m    305\u001b[0m \u001b[38;5;28;01mif\u001b[39;00m \u001b[38;5;28mlen\u001b[39m(args) \u001b[38;5;241m>\u001b[39m num_allow_args:\n\u001b[0;32m    306\u001b[0m     warnings\u001b[38;5;241m.\u001b[39mwarn(\n\u001b[0;32m    307\u001b[0m         msg\u001b[38;5;241m.\u001b[39mformat(arguments\u001b[38;5;241m=\u001b[39marguments),\n\u001b[0;32m    308\u001b[0m         \u001b[38;5;167;01mFutureWarning\u001b[39;00m,\n\u001b[0;32m    309\u001b[0m         stacklevel\u001b[38;5;241m=\u001b[39mstacklevel,\n\u001b[0;32m    310\u001b[0m     )\n\u001b[1;32m--> 311\u001b[0m \u001b[38;5;28;01mreturn\u001b[39;00m func(\u001b[38;5;241m*\u001b[39margs, \u001b[38;5;241m*\u001b[39m\u001b[38;5;241m*\u001b[39mkwargs)\n",
      "File \u001b[1;32m~\\anaconda3\\envs\\geodata\\lib\\site-packages\\pandas\\core\\frame.py:6124\u001b[0m, in \u001b[0;36mDataFrame.drop_duplicates\u001b[1;34m(self, subset, keep, inplace, ignore_index)\u001b[0m\n\u001b[0;32m   6121\u001b[0m ignore_index \u001b[38;5;241m=\u001b[39m validate_bool_kwarg(ignore_index, \u001b[38;5;124m\"\u001b[39m\u001b[38;5;124mignore_index\u001b[39m\u001b[38;5;124m\"\u001b[39m)\n\u001b[0;32m   6122\u001b[0m duplicated \u001b[38;5;241m=\u001b[39m \u001b[38;5;28mself\u001b[39m\u001b[38;5;241m.\u001b[39mduplicated(subset, keep\u001b[38;5;241m=\u001b[39mkeep)\n\u001b[1;32m-> 6124\u001b[0m result \u001b[38;5;241m=\u001b[39m \u001b[38;5;28;43mself\u001b[39;49m\u001b[43m[\u001b[49m\u001b[38;5;241;43m-\u001b[39;49m\u001b[43mduplicated\u001b[49m\u001b[43m]\u001b[49m\n\u001b[0;32m   6125\u001b[0m \u001b[38;5;28;01mif\u001b[39;00m ignore_index:\n\u001b[0;32m   6126\u001b[0m     result\u001b[38;5;241m.\u001b[39mindex \u001b[38;5;241m=\u001b[39m default_index(\u001b[38;5;28mlen\u001b[39m(result))\n",
      "File \u001b[1;32m~\\anaconda3\\envs\\geodata\\lib\\site-packages\\pandas\\core\\frame.py:3496\u001b[0m, in \u001b[0;36mDataFrame.__getitem__\u001b[1;34m(self, key)\u001b[0m\n\u001b[0;32m   3494\u001b[0m \u001b[38;5;66;03m# Do we have a (boolean) 1d indexer?\u001b[39;00m\n\u001b[0;32m   3495\u001b[0m \u001b[38;5;28;01mif\u001b[39;00m com\u001b[38;5;241m.\u001b[39mis_bool_indexer(key):\n\u001b[1;32m-> 3496\u001b[0m     \u001b[38;5;28;01mreturn\u001b[39;00m \u001b[38;5;28;43mself\u001b[39;49m\u001b[38;5;241;43m.\u001b[39;49m\u001b[43m_getitem_bool_array\u001b[49m\u001b[43m(\u001b[49m\u001b[43mkey\u001b[49m\u001b[43m)\u001b[49m\n\u001b[0;32m   3498\u001b[0m \u001b[38;5;66;03m# We are left with two options: a single key, and a collection of keys,\u001b[39;00m\n\u001b[0;32m   3499\u001b[0m \u001b[38;5;66;03m# We interpret tuples as collections only for non-MultiIndex\u001b[39;00m\n\u001b[0;32m   3500\u001b[0m is_single_key \u001b[38;5;241m=\u001b[39m \u001b[38;5;28misinstance\u001b[39m(key, \u001b[38;5;28mtuple\u001b[39m) \u001b[38;5;129;01mor\u001b[39;00m \u001b[38;5;129;01mnot\u001b[39;00m is_list_like(key)\n",
      "File \u001b[1;32m~\\anaconda3\\envs\\geodata\\lib\\site-packages\\pandas\\core\\frame.py:3551\u001b[0m, in \u001b[0;36mDataFrame._getitem_bool_array\u001b[1;34m(self, key)\u001b[0m\n\u001b[0;32m   3549\u001b[0m key \u001b[38;5;241m=\u001b[39m check_bool_indexer(\u001b[38;5;28mself\u001b[39m\u001b[38;5;241m.\u001b[39mindex, key)\n\u001b[0;32m   3550\u001b[0m indexer \u001b[38;5;241m=\u001b[39m key\u001b[38;5;241m.\u001b[39mnonzero()[\u001b[38;5;241m0\u001b[39m]\n\u001b[1;32m-> 3551\u001b[0m \u001b[38;5;28;01mreturn\u001b[39;00m \u001b[38;5;28;43mself\u001b[39;49m\u001b[38;5;241;43m.\u001b[39;49m\u001b[43m_take_with_is_copy\u001b[49m\u001b[43m(\u001b[49m\u001b[43mindexer\u001b[49m\u001b[43m,\u001b[49m\u001b[43m \u001b[49m\u001b[43maxis\u001b[49m\u001b[38;5;241;43m=\u001b[39;49m\u001b[38;5;241;43m0\u001b[39;49m\u001b[43m)\u001b[49m\n",
      "File \u001b[1;32m~\\anaconda3\\envs\\geodata\\lib\\site-packages\\pandas\\core\\generic.py:3716\u001b[0m, in \u001b[0;36mNDFrame._take_with_is_copy\u001b[1;34m(self, indices, axis)\u001b[0m\n\u001b[0;32m   3708\u001b[0m \u001b[38;5;28;01mdef\u001b[39;00m \u001b[38;5;21m_take_with_is_copy\u001b[39m(\u001b[38;5;28mself\u001b[39m: NDFrameT, indices, axis\u001b[38;5;241m=\u001b[39m\u001b[38;5;241m0\u001b[39m) \u001b[38;5;241m-\u001b[39m\u001b[38;5;241m>\u001b[39m NDFrameT:\n\u001b[0;32m   3709\u001b[0m     \u001b[38;5;124;03m\"\"\"\u001b[39;00m\n\u001b[0;32m   3710\u001b[0m \u001b[38;5;124;03m    Internal version of the `take` method that sets the `_is_copy`\u001b[39;00m\n\u001b[0;32m   3711\u001b[0m \u001b[38;5;124;03m    attribute to keep track of the parent dataframe (using in indexing\u001b[39;00m\n\u001b[1;32m   (...)\u001b[0m\n\u001b[0;32m   3714\u001b[0m \u001b[38;5;124;03m    See the docstring of `take` for full explanation of the parameters.\u001b[39;00m\n\u001b[0;32m   3715\u001b[0m \u001b[38;5;124;03m    \"\"\"\u001b[39;00m\n\u001b[1;32m-> 3716\u001b[0m     result \u001b[38;5;241m=\u001b[39m \u001b[38;5;28;43mself\u001b[39;49m\u001b[38;5;241;43m.\u001b[39;49m\u001b[43mtake\u001b[49m\u001b[43m(\u001b[49m\u001b[43mindices\u001b[49m\u001b[38;5;241;43m=\u001b[39;49m\u001b[43mindices\u001b[49m\u001b[43m,\u001b[49m\u001b[43m \u001b[49m\u001b[43maxis\u001b[49m\u001b[38;5;241;43m=\u001b[39;49m\u001b[43maxis\u001b[49m\u001b[43m)\u001b[49m\n\u001b[0;32m   3717\u001b[0m     \u001b[38;5;66;03m# Maybe set copy if we didn't actually change the index.\u001b[39;00m\n\u001b[0;32m   3718\u001b[0m     \u001b[38;5;28;01mif\u001b[39;00m \u001b[38;5;129;01mnot\u001b[39;00m result\u001b[38;5;241m.\u001b[39m_get_axis(axis)\u001b[38;5;241m.\u001b[39mequals(\u001b[38;5;28mself\u001b[39m\u001b[38;5;241m.\u001b[39m_get_axis(axis)):\n",
      "File \u001b[1;32m~\\anaconda3\\envs\\geodata\\lib\\site-packages\\pandas\\core\\generic.py:3703\u001b[0m, in \u001b[0;36mNDFrame.take\u001b[1;34m(self, indices, axis, is_copy, **kwargs)\u001b[0m\n\u001b[0;32m   3699\u001b[0m nv\u001b[38;5;241m.\u001b[39mvalidate_take((), kwargs)\n\u001b[0;32m   3701\u001b[0m \u001b[38;5;28mself\u001b[39m\u001b[38;5;241m.\u001b[39m_consolidate_inplace()\n\u001b[1;32m-> 3703\u001b[0m new_data \u001b[38;5;241m=\u001b[39m \u001b[38;5;28;43mself\u001b[39;49m\u001b[38;5;241;43m.\u001b[39;49m\u001b[43m_mgr\u001b[49m\u001b[38;5;241;43m.\u001b[39;49m\u001b[43mtake\u001b[49m\u001b[43m(\u001b[49m\n\u001b[0;32m   3704\u001b[0m \u001b[43m    \u001b[49m\u001b[43mindices\u001b[49m\u001b[43m,\u001b[49m\u001b[43m \u001b[49m\u001b[43maxis\u001b[49m\u001b[38;5;241;43m=\u001b[39;49m\u001b[38;5;28;43mself\u001b[39;49m\u001b[38;5;241;43m.\u001b[39;49m\u001b[43m_get_block_manager_axis\u001b[49m\u001b[43m(\u001b[49m\u001b[43maxis\u001b[49m\u001b[43m)\u001b[49m\u001b[43m,\u001b[49m\u001b[43m \u001b[49m\u001b[43mverify\u001b[49m\u001b[38;5;241;43m=\u001b[39;49m\u001b[38;5;28;43;01mTrue\u001b[39;49;00m\n\u001b[0;32m   3705\u001b[0m \u001b[43m\u001b[49m\u001b[43m)\u001b[49m\n\u001b[0;32m   3706\u001b[0m \u001b[38;5;28;01mreturn\u001b[39;00m \u001b[38;5;28mself\u001b[39m\u001b[38;5;241m.\u001b[39m_constructor(new_data)\u001b[38;5;241m.\u001b[39m__finalize__(\u001b[38;5;28mself\u001b[39m, method\u001b[38;5;241m=\u001b[39m\u001b[38;5;124m\"\u001b[39m\u001b[38;5;124mtake\u001b[39m\u001b[38;5;124m\"\u001b[39m)\n",
      "File \u001b[1;32m~\\anaconda3\\envs\\geodata\\lib\\site-packages\\pandas\\core\\internals\\managers.py:900\u001b[0m, in \u001b[0;36mBaseBlockManager.take\u001b[1;34m(self, indexer, axis, verify)\u001b[0m\n\u001b[0;32m    897\u001b[0m indexer \u001b[38;5;241m=\u001b[39m maybe_convert_indices(indexer, n, verify\u001b[38;5;241m=\u001b[39mverify)\n\u001b[0;32m    899\u001b[0m new_labels \u001b[38;5;241m=\u001b[39m \u001b[38;5;28mself\u001b[39m\u001b[38;5;241m.\u001b[39maxes[axis]\u001b[38;5;241m.\u001b[39mtake(indexer)\n\u001b[1;32m--> 900\u001b[0m \u001b[38;5;28;01mreturn\u001b[39;00m \u001b[38;5;28;43mself\u001b[39;49m\u001b[38;5;241;43m.\u001b[39;49m\u001b[43mreindex_indexer\u001b[49m\u001b[43m(\u001b[49m\n\u001b[0;32m    901\u001b[0m \u001b[43m    \u001b[49m\u001b[43mnew_axis\u001b[49m\u001b[38;5;241;43m=\u001b[39;49m\u001b[43mnew_labels\u001b[49m\u001b[43m,\u001b[49m\n\u001b[0;32m    902\u001b[0m \u001b[43m    \u001b[49m\u001b[43mindexer\u001b[49m\u001b[38;5;241;43m=\u001b[39;49m\u001b[43mindexer\u001b[49m\u001b[43m,\u001b[49m\n\u001b[0;32m    903\u001b[0m \u001b[43m    \u001b[49m\u001b[43maxis\u001b[49m\u001b[38;5;241;43m=\u001b[39;49m\u001b[43maxis\u001b[49m\u001b[43m,\u001b[49m\n\u001b[0;32m    904\u001b[0m \u001b[43m    \u001b[49m\u001b[43mallow_dups\u001b[49m\u001b[38;5;241;43m=\u001b[39;49m\u001b[38;5;28;43;01mTrue\u001b[39;49;00m\u001b[43m,\u001b[49m\n\u001b[0;32m    905\u001b[0m \u001b[43m    \u001b[49m\u001b[43mconsolidate\u001b[49m\u001b[38;5;241;43m=\u001b[39;49m\u001b[38;5;28;43;01mFalse\u001b[39;49;00m\u001b[43m,\u001b[49m\n\u001b[0;32m    906\u001b[0m \u001b[43m\u001b[49m\u001b[43m)\u001b[49m\n",
      "File \u001b[1;32m~\\anaconda3\\envs\\geodata\\lib\\site-packages\\pandas\\core\\internals\\managers.py:692\u001b[0m, in \u001b[0;36mBaseBlockManager.reindex_indexer\u001b[1;34m(self, new_axis, indexer, axis, fill_value, allow_dups, copy, consolidate, only_slice, use_na_proxy)\u001b[0m\n\u001b[0;32m    685\u001b[0m     new_blocks \u001b[38;5;241m=\u001b[39m \u001b[38;5;28mself\u001b[39m\u001b[38;5;241m.\u001b[39m_slice_take_blocks_ax0(\n\u001b[0;32m    686\u001b[0m         indexer,\n\u001b[0;32m    687\u001b[0m         fill_value\u001b[38;5;241m=\u001b[39mfill_value,\n\u001b[0;32m    688\u001b[0m         only_slice\u001b[38;5;241m=\u001b[39monly_slice,\n\u001b[0;32m    689\u001b[0m         use_na_proxy\u001b[38;5;241m=\u001b[39muse_na_proxy,\n\u001b[0;32m    690\u001b[0m     )\n\u001b[0;32m    691\u001b[0m \u001b[38;5;28;01melse\u001b[39;00m:\n\u001b[1;32m--> 692\u001b[0m     new_blocks \u001b[38;5;241m=\u001b[39m [\n\u001b[0;32m    693\u001b[0m         blk\u001b[38;5;241m.\u001b[39mtake_nd(\n\u001b[0;32m    694\u001b[0m             indexer,\n\u001b[0;32m    695\u001b[0m             axis\u001b[38;5;241m=\u001b[39m\u001b[38;5;241m1\u001b[39m,\n\u001b[0;32m    696\u001b[0m             fill_value\u001b[38;5;241m=\u001b[39m(\n\u001b[0;32m    697\u001b[0m                 fill_value \u001b[38;5;28;01mif\u001b[39;00m fill_value \u001b[38;5;129;01mis\u001b[39;00m \u001b[38;5;129;01mnot\u001b[39;00m \u001b[38;5;28;01mNone\u001b[39;00m \u001b[38;5;28;01melse\u001b[39;00m blk\u001b[38;5;241m.\u001b[39mfill_value\n\u001b[0;32m    698\u001b[0m             ),\n\u001b[0;32m    699\u001b[0m         )\n\u001b[0;32m    700\u001b[0m         \u001b[38;5;28;01mfor\u001b[39;00m blk \u001b[38;5;129;01min\u001b[39;00m \u001b[38;5;28mself\u001b[39m\u001b[38;5;241m.\u001b[39mblocks\n\u001b[0;32m    701\u001b[0m     ]\n\u001b[0;32m    703\u001b[0m new_axes \u001b[38;5;241m=\u001b[39m \u001b[38;5;28mlist\u001b[39m(\u001b[38;5;28mself\u001b[39m\u001b[38;5;241m.\u001b[39maxes)\n\u001b[0;32m    704\u001b[0m new_axes[axis] \u001b[38;5;241m=\u001b[39m new_axis\n",
      "File \u001b[1;32m~\\anaconda3\\envs\\geodata\\lib\\site-packages\\pandas\\core\\internals\\managers.py:693\u001b[0m, in \u001b[0;36m<listcomp>\u001b[1;34m(.0)\u001b[0m\n\u001b[0;32m    685\u001b[0m     new_blocks \u001b[38;5;241m=\u001b[39m \u001b[38;5;28mself\u001b[39m\u001b[38;5;241m.\u001b[39m_slice_take_blocks_ax0(\n\u001b[0;32m    686\u001b[0m         indexer,\n\u001b[0;32m    687\u001b[0m         fill_value\u001b[38;5;241m=\u001b[39mfill_value,\n\u001b[0;32m    688\u001b[0m         only_slice\u001b[38;5;241m=\u001b[39monly_slice,\n\u001b[0;32m    689\u001b[0m         use_na_proxy\u001b[38;5;241m=\u001b[39muse_na_proxy,\n\u001b[0;32m    690\u001b[0m     )\n\u001b[0;32m    691\u001b[0m \u001b[38;5;28;01melse\u001b[39;00m:\n\u001b[0;32m    692\u001b[0m     new_blocks \u001b[38;5;241m=\u001b[39m [\n\u001b[1;32m--> 693\u001b[0m         \u001b[43mblk\u001b[49m\u001b[38;5;241;43m.\u001b[39;49m\u001b[43mtake_nd\u001b[49m\u001b[43m(\u001b[49m\n\u001b[0;32m    694\u001b[0m \u001b[43m            \u001b[49m\u001b[43mindexer\u001b[49m\u001b[43m,\u001b[49m\n\u001b[0;32m    695\u001b[0m \u001b[43m            \u001b[49m\u001b[43maxis\u001b[49m\u001b[38;5;241;43m=\u001b[39;49m\u001b[38;5;241;43m1\u001b[39;49m\u001b[43m,\u001b[49m\n\u001b[0;32m    696\u001b[0m \u001b[43m            \u001b[49m\u001b[43mfill_value\u001b[49m\u001b[38;5;241;43m=\u001b[39;49m\u001b[43m(\u001b[49m\n\u001b[0;32m    697\u001b[0m \u001b[43m                \u001b[49m\u001b[43mfill_value\u001b[49m\u001b[43m \u001b[49m\u001b[38;5;28;43;01mif\u001b[39;49;00m\u001b[43m \u001b[49m\u001b[43mfill_value\u001b[49m\u001b[43m \u001b[49m\u001b[38;5;129;43;01mis\u001b[39;49;00m\u001b[43m \u001b[49m\u001b[38;5;129;43;01mnot\u001b[39;49;00m\u001b[43m \u001b[49m\u001b[38;5;28;43;01mNone\u001b[39;49;00m\u001b[43m \u001b[49m\u001b[38;5;28;43;01melse\u001b[39;49;00m\u001b[43m \u001b[49m\u001b[43mblk\u001b[49m\u001b[38;5;241;43m.\u001b[39;49m\u001b[43mfill_value\u001b[49m\n\u001b[0;32m    698\u001b[0m \u001b[43m            \u001b[49m\u001b[43m)\u001b[49m\u001b[43m,\u001b[49m\n\u001b[0;32m    699\u001b[0m \u001b[43m        \u001b[49m\u001b[43m)\u001b[49m\n\u001b[0;32m    700\u001b[0m         \u001b[38;5;28;01mfor\u001b[39;00m blk \u001b[38;5;129;01min\u001b[39;00m \u001b[38;5;28mself\u001b[39m\u001b[38;5;241m.\u001b[39mblocks\n\u001b[0;32m    701\u001b[0m     ]\n\u001b[0;32m    703\u001b[0m new_axes \u001b[38;5;241m=\u001b[39m \u001b[38;5;28mlist\u001b[39m(\u001b[38;5;28mself\u001b[39m\u001b[38;5;241m.\u001b[39maxes)\n\u001b[0;32m    704\u001b[0m new_axes[axis] \u001b[38;5;241m=\u001b[39m new_axis\n",
      "File \u001b[1;32m~\\anaconda3\\envs\\geodata\\lib\\site-packages\\pandas\\core\\internals\\blocks.py:1139\u001b[0m, in \u001b[0;36mBlock.take_nd\u001b[1;34m(self, indexer, axis, new_mgr_locs, fill_value)\u001b[0m\n\u001b[0;32m   1136\u001b[0m \u001b[38;5;28;01melse\u001b[39;00m:\n\u001b[0;32m   1137\u001b[0m     allow_fill \u001b[38;5;241m=\u001b[39m \u001b[38;5;28;01mTrue\u001b[39;00m\n\u001b[1;32m-> 1139\u001b[0m new_values \u001b[38;5;241m=\u001b[39m \u001b[43malgos\u001b[49m\u001b[38;5;241;43m.\u001b[39;49m\u001b[43mtake_nd\u001b[49m\u001b[43m(\u001b[49m\n\u001b[0;32m   1140\u001b[0m \u001b[43m    \u001b[49m\u001b[43mvalues\u001b[49m\u001b[43m,\u001b[49m\u001b[43m \u001b[49m\u001b[43mindexer\u001b[49m\u001b[43m,\u001b[49m\u001b[43m \u001b[49m\u001b[43maxis\u001b[49m\u001b[38;5;241;43m=\u001b[39;49m\u001b[43maxis\u001b[49m\u001b[43m,\u001b[49m\u001b[43m \u001b[49m\u001b[43mallow_fill\u001b[49m\u001b[38;5;241;43m=\u001b[39;49m\u001b[43mallow_fill\u001b[49m\u001b[43m,\u001b[49m\u001b[43m \u001b[49m\u001b[43mfill_value\u001b[49m\u001b[38;5;241;43m=\u001b[39;49m\u001b[43mfill_value\u001b[49m\n\u001b[0;32m   1141\u001b[0m \u001b[43m\u001b[49m\u001b[43m)\u001b[49m\n\u001b[0;32m   1143\u001b[0m \u001b[38;5;66;03m# Called from three places in managers, all of which satisfy\u001b[39;00m\n\u001b[0;32m   1144\u001b[0m \u001b[38;5;66;03m#  this assertion\u001b[39;00m\n\u001b[0;32m   1145\u001b[0m \u001b[38;5;28;01massert\u001b[39;00m \u001b[38;5;129;01mnot\u001b[39;00m (axis \u001b[38;5;241m==\u001b[39m \u001b[38;5;241m0\u001b[39m \u001b[38;5;129;01mand\u001b[39;00m new_mgr_locs \u001b[38;5;129;01mis\u001b[39;00m \u001b[38;5;28;01mNone\u001b[39;00m)\n",
      "File \u001b[1;32m~\\anaconda3\\envs\\geodata\\lib\\site-packages\\pandas\\core\\array_algos\\take.py:117\u001b[0m, in \u001b[0;36mtake_nd\u001b[1;34m(arr, indexer, axis, fill_value, allow_fill)\u001b[0m\n\u001b[0;32m    114\u001b[0m     \u001b[38;5;28;01mreturn\u001b[39;00m arr\u001b[38;5;241m.\u001b[39mtake(indexer, fill_value\u001b[38;5;241m=\u001b[39mfill_value, allow_fill\u001b[38;5;241m=\u001b[39mallow_fill)\n\u001b[0;32m    116\u001b[0m arr \u001b[38;5;241m=\u001b[39m np\u001b[38;5;241m.\u001b[39masarray(arr)\n\u001b[1;32m--> 117\u001b[0m \u001b[38;5;28;01mreturn\u001b[39;00m \u001b[43m_take_nd_ndarray\u001b[49m\u001b[43m(\u001b[49m\u001b[43marr\u001b[49m\u001b[43m,\u001b[49m\u001b[43m \u001b[49m\u001b[43mindexer\u001b[49m\u001b[43m,\u001b[49m\u001b[43m \u001b[49m\u001b[43maxis\u001b[49m\u001b[43m,\u001b[49m\u001b[43m \u001b[49m\u001b[43mfill_value\u001b[49m\u001b[43m,\u001b[49m\u001b[43m \u001b[49m\u001b[43mallow_fill\u001b[49m\u001b[43m)\u001b[49m\n",
      "File \u001b[1;32m~\\anaconda3\\envs\\geodata\\lib\\site-packages\\pandas\\core\\array_algos\\take.py:158\u001b[0m, in \u001b[0;36m_take_nd_ndarray\u001b[1;34m(arr, indexer, axis, fill_value, allow_fill)\u001b[0m\n\u001b[0;32m    156\u001b[0m     out \u001b[38;5;241m=\u001b[39m np\u001b[38;5;241m.\u001b[39mempty(out_shape, dtype\u001b[38;5;241m=\u001b[39mdtype, order\u001b[38;5;241m=\u001b[39m\u001b[38;5;124m\"\u001b[39m\u001b[38;5;124mF\u001b[39m\u001b[38;5;124m\"\u001b[39m)\n\u001b[0;32m    157\u001b[0m \u001b[38;5;28;01melse\u001b[39;00m:\n\u001b[1;32m--> 158\u001b[0m     out \u001b[38;5;241m=\u001b[39m \u001b[43mnp\u001b[49m\u001b[38;5;241;43m.\u001b[39;49m\u001b[43mempty\u001b[49m\u001b[43m(\u001b[49m\u001b[43mout_shape\u001b[49m\u001b[43m,\u001b[49m\u001b[43m \u001b[49m\u001b[43mdtype\u001b[49m\u001b[38;5;241;43m=\u001b[39;49m\u001b[43mdtype\u001b[49m\u001b[43m)\u001b[49m\n\u001b[0;32m    160\u001b[0m func \u001b[38;5;241m=\u001b[39m _get_take_nd_function(\n\u001b[0;32m    161\u001b[0m     arr\u001b[38;5;241m.\u001b[39mndim, arr\u001b[38;5;241m.\u001b[39mdtype, out\u001b[38;5;241m.\u001b[39mdtype, axis\u001b[38;5;241m=\u001b[39maxis, mask_info\u001b[38;5;241m=\u001b[39mmask_info\n\u001b[0;32m    162\u001b[0m )\n\u001b[0;32m    163\u001b[0m func(arr, indexer, out, fill_value)\n",
      "\u001b[1;31mMemoryError\u001b[0m: Unable to allocate 447. MiB for an array with shape (66, 886930) and data type float64"
     ]
    }
   ],
   "source": [
    "hmf.describe_data(df3, figsize=(20,4))\n",
    "\n",
    "#check potentielles clés\n",
    "print(\"\\n\",'*'*30,\"Clés potentielles\",'*'*30, \"\\n\")\n",
    "hmf.cles_potentielles(df=df3, max_allowed=2)\n",
    "\n",
    "#Check duplicated row\n",
    "print()\n",
    "print(\"Nombre de duplicated rows : \",len(df3[df3.duplicated(subset=['Country Name', 'Indicator Name'])]),\"\\n\")\n",
    "\n",
    "\n",
    "hmf.infos_columns(df3)\n",
    "\n",
    "df3.describe().round(2)"
   ]
  },
  {
   "cell_type": "markdown",
   "id": "df47d579-ecc1-42a4-9203-f7da973cfbe9",
   "metadata": {},
   "source": [
    "<div class=\"alert-warning\"> <b>Attention : </b> Il y a <b> énormement de valeurs manquantes</b> au niveau des valeurs des indicateurs. <b>Cette information est à prendre en compte pour déterminer la période à étudier.</b></div>"
   ]
  },
  {
   "cell_type": "markdown",
   "id": "c75ca0c4-a4b5-4d1b-b411-5758f0a65698",
   "metadata": {},
   "source": [
    "### Préparation du dataframe pour l'analyse..."
   ]
  },
  {
   "cell_type": "code",
   "execution_count": null,
   "id": "2594c53f-dd63-411f-a4e2-0a0d0cead5f6",
   "metadata": {},
   "outputs": [],
   "source": [
    "df3_final = df3[['Country Name', 'Country Code', 'Indicator Name', 'Indicator Code','2000', '2001', '2002', '2003', '2004', '2005','2006', '2007', '2008', '2009', '2010', '2011', '2012', '2013', '2014','2015',]]\n",
    "df3_final.rename(columns={'Country Name':'Country', 'Indicator Name':'Indicator'}, inplace=True)\n",
    "df3_final.head()"
   ]
  },
  {
   "cell_type": "markdown",
   "id": "562c6128-fc98-4d57-b0b7-bbf846cc190e",
   "metadata": {},
   "source": [
    "### 2.4. Fichier EdStatsFootNote"
   ]
  },
  {
   "cell_type": "code",
   "execution_count": null,
   "id": "1afee586-1268-479d-b3e7-4cc8e06b5994",
   "metadata": {},
   "outputs": [],
   "source": [
    "df4 = hmf.read_data('csv', './data/EdStatsFootNote.csv')\n",
    "df4.head()"
   ]
  },
  {
   "cell_type": "markdown",
   "id": "46e855ae-aa2c-4462-bcec-3dc566bb3661",
   "metadata": {},
   "source": [
    "<div class=\"alert-info\"\n",
    "     style=\"margin: auto;  \n",
    "            font-family:Helvetica, Arial, verdana, sans-serif\">\n",
    "    <p> <b>Ce fichier donne des informations sur l'année d'origine et la nature l'indicateur. </b></p>"
   ]
  },
  {
   "cell_type": "code",
   "execution_count": null,
   "id": "049d4129-9080-424b-8f6c-8e92af8107d7",
   "metadata": {},
   "outputs": [],
   "source": [
    "hmf.describe_data(df4)\n",
    "\n",
    "#check potentielles clés\n",
    "print(\"\\n\",'*'*30,\"Clés potentielles\",'*'*30, \"\\n\")\n",
    "hmf.cles_potentielles(df=df4)\n",
    "\n",
    "#Check duplicated row\n",
    "print()\n",
    "print(\"Nombre de duplicated rows : \",len(df4[df4.duplicated(subset=['CountryCode', 'SeriesCode', 'Year'])]),\"\\n\")\n",
    "\n",
    "\n",
    "hmf.infos_columns(df4)\n",
    "\n",
    "print(\"*\"*20,\"Les sources et/ou méthodes les plus courantes\",\"*\"*20,\"\\n\")\n",
    "print(df4['DESCRIPTION'].value_counts().head(10))\n"
   ]
  },
  {
   "cell_type": "markdown",
   "id": "361fff18-b84c-4757-8128-bb2064a86e29",
   "metadata": {},
   "source": [
    "<div class=\"alert-warning\"> <b>Attention : </b> Ce jeu de donnés ne nous sera pas utile pour la suite de l'analyse.</div>"
   ]
  },
  {
   "cell_type": "code",
   "execution_count": null,
   "id": "06648303",
   "metadata": {},
   "outputs": [],
   "source": [
    "# On prépare la colonne années\n",
    "df4['Year']= df4['Year'].apply(lambda x : x[2:])\n",
    "df4 = df4.sort_values(by='Year')\n",
    "\n",
    "# On plot\n",
    "plt.figure(figsize=(12,6))\n",
    "sns.countplot(data=df4, x='Year')\n",
    "plt.xticks(rotation=90)\n",
    "plt.show()\n"
   ]
  },
  {
   "cell_type": "markdown",
   "id": "552de1eb-c15a-4276-8977-643ebd62d776",
   "metadata": {},
   "source": [
    "### 2.5. Fichier EdStatsSeries"
   ]
  },
  {
   "cell_type": "code",
   "execution_count": null,
   "id": "4f4e60e5",
   "metadata": {},
   "outputs": [],
   "source": [
    "df5 = hmf.read_data('csv', './data/EdStatsSeries.csv')\n",
    "df5.head()"
   ]
  },
  {
   "cell_type": "markdown",
   "id": "9c245ec3-1879-4b3b-b1c8-0f5a3f793562",
   "metadata": {},
   "source": [
    "<div class=\"alert-info\"\n",
    "     style=\"margin: auto;  \n",
    "            font-family:Helvetica, Arial, verdana, sans-serif\">\n",
    "    <p> <b>Ce jeu de données donne plusieurs caractéristiques de l'indicateur: catégorie, définition ,méthode de calcul, source, etc ...</b></p>\n",
    "</div>       "
   ]
  },
  {
   "cell_type": "code",
   "execution_count": null,
   "id": "2f17afe8",
   "metadata": {},
   "outputs": [],
   "source": [
    "hmf.describe_data(df5)\n",
    "\n",
    "#check potentielles clés\n",
    "print(\"\\n\",'*'*30,\"Clés potentielles\",'*'*30, \"\\n\")\n",
    "hmf.cles_potentielles(df=df5)\n",
    "\n",
    "#Check duplicated row\n",
    "print()\n",
    "print(\"Nombre de duplicated rows : \",len(df5[df5['Series Code'].duplicated()]),\"\\n\")\n",
    "\n",
    "hmf.infos_columns(df5)"
   ]
  },
  {
   "cell_type": "markdown",
   "id": "dca3cc57-3951-4fd4-b63c-20cf6b4396c0",
   "metadata": {},
   "source": [
    "#### Un peu d'exploration..."
   ]
  },
  {
   "cell_type": "code",
   "execution_count": null,
   "id": "a84f3eaa-f386-4782-abca-3100e4f1d506",
   "metadata": {},
   "outputs": [],
   "source": [
    "plt.figure(figsize=(12,8))\n",
    "df5['Topic'].value_counts().plot(kind='bar')\n",
    "plt.show()"
   ]
  },
  {
   "cell_type": "markdown",
   "id": "b47390b1-4ebe-432f-bc67-8916f66123f9",
   "metadata": {},
   "source": [
    "### 3. Consolidation des données"
   ]
  },
  {
   "cell_type": "code",
   "execution_count": null,
   "id": "1fa13181-44b1-4736-9051-c1e389de9b08",
   "metadata": {},
   "outputs": [],
   "source": [
    "data =  df2_final.merge(df3, on=['Country Code'], how='inner')\n",
    "data.rename(columns={'Country_x':'Country'}, inplace=True)"
   ]
  },
  {
   "cell_type": "code",
   "execution_count": null,
   "id": "f4fc01e0-7a84-4d5c-999f-d42dd2fc0bec",
   "metadata": {},
   "outputs": [],
   "source": [
    "data.head()"
   ]
  },
  {
   "cell_type": "code",
   "execution_count": null,
   "id": "41bd9c61-f639-4120-be6a-11baff92ffd1",
   "metadata": {},
   "outputs": [],
   "source": [
    "data= pd.concat([data.loc[:,['Region', 'Country','Country Code','Income Group','Indicator Name']],data.loc[:,'2000':'2015']], axis=1)\n",
    "data.head()"
   ]
  },
  {
   "cell_type": "markdown",
   "id": "ec6a1012-9229-4efd-90d8-ccbc0f2757a5",
   "metadata": {},
   "source": [
    "### 4. Selection des indicateurs pertinents"
   ]
  },
  {
   "cell_type": "markdown",
   "id": "6c7f6a2b-4ef2-46f5-9656-32b3c40fd301",
   "metadata": {},
   "source": [
    "Selection basée sur 3 types d'indicateurs"
   ]
  },
  {
   "cell_type": "code",
   "execution_count": null,
   "id": "c9512229",
   "metadata": {},
   "outputs": [],
   "source": [
    "data.rename(columns={'Indicator Name':'Indicator'},inplace=True)"
   ]
  },
  {
   "cell_type": "code",
   "execution_count": null,
   "id": "2e0a356c",
   "metadata": {},
   "outputs": [],
   "source": [
    "data[data['Indicator'].str.contains('computer')]['Indicator'].unique()"
   ]
  },
  {
   "cell_type": "code",
   "execution_count": null,
   "id": "ed39ea6a",
   "metadata": {},
   "outputs": [],
   "source": [
    "df5[df5['Indicator Name'] == 'Net enrolment rate, lower secondary, both sexes (%)']['Long definition'].tolist()"
   ]
  },
  {
   "cell_type": "markdown",
   "id": "e7f73ce9-aa4f-49a4-9f7a-3a5722ba9afd",
   "metadata": {},
   "source": [
    "### 4.1. Indicateurs sociaux-économiques"
   ]
  },
  {
   "cell_type": "markdown",
   "id": "40b8715c-b005-4803-ac88-2b03cb2f1e43",
   "metadata": {},
   "source": [
    "Trois indicateurs permettant d'avoir une vue sur le potentiel socio-économique du pays.\n",
    "- **GDP per capita (current US$)** : vision sur les moyens du pays\n",
    "- **Population growth (annual %)** : vision sur la croissance démographique du pays\n",
    "- **Population, total** "
   ]
  },
  {
   "cell_type": "markdown",
   "id": "a2031ab5-99dc-4db5-a716-c2e11210d97c",
   "metadata": {},
   "source": [
    "### 4.2. Indicateurs liés à l'accès au matériel nécessaire"
   ]
  },
  {
   "cell_type": "markdown",
   "id": "e6a61801-c0ca-4575-9ec0-97fee2db7ade",
   "metadata": {},
   "source": [
    "Deux indicateurs permettant d'avoir une vue sur l'accès au matériel nécessaire.\n",
    "- **Internet users (per 100 people)** : vision sur l'accès à internet\n",
    "- **Personal computers (per 100 people)** : vision sur le matériel nécessaire"
   ]
  },
  {
   "cell_type": "markdown",
   "id": "ee67b342-f9a2-413f-988d-c1ecdd4bfa0a",
   "metadata": {},
   "source": [
    "#### 4.3. Indicateurs liés à l'éducation"
   ]
  },
  {
   "cell_type": "markdown",
   "id": "c6d0887b-61e9-4340-8e2f-03ebf17a0d4f",
   "metadata": {},
   "source": [
    "Trois indicateurs permettant d'avoir une vue sur le nombre client potentiel du pays.\n",
    "- **Enrolment in secondary education, both sexes (number)**\n",
    "- **Enrolment in tertiary education, all programmes, both sexes (number)**\n",
    "- **Enrolment in post-secondary non-tertiary education, both sexes (number)**"
   ]
  },
  {
   "cell_type": "code",
   "execution_count": null,
   "id": "9903695b-9c66-4327-8a8e-37572844a0df",
   "metadata": {},
   "outputs": [],
   "source": [
    "indicators = ['GDP per capita (current US$)',\n",
    "              'Population growth (annual %)',\n",
    "              'Population, total',\n",
    "              'Expenditure on education as % of total government expenditure (%)',\n",
    "              'Internet users (per 100 people)',\n",
    "              'Personal computers (per 100 people)',\n",
    "              'Enrolment in secondary education, both sexes (number)',\n",
    "              'Enrolment in tertiary education, all programmes, both sexes (number)',\n",
    "              'Enrolment in post-secondary non-tertiary education, both sexes (number)',]"
   ]
  },
  {
   "cell_type": "code",
   "execution_count": null,
   "id": "4ff835bd-d403-47d0-b3fb-c87f59c3b8f6",
   "metadata": {},
   "outputs": [],
   "source": [
    "data_final= data[data['Indicator'].isin(indicators)]\n",
    "data_final.head()"
   ]
  },
  {
   "cell_type": "code",
   "execution_count": null,
   "id": "7e973c38-a467-4d50-9534-2b46c115391f",
   "metadata": {},
   "outputs": [],
   "source": [
    "data_final = data_final.melt(id_vars=['Region', 'Country Code', 'Country', 'Income Group','Indicator'], var_name='Year')\n",
    "data_final = data_final.pivot_table(index=['Region', 'Country Code','Country', 'Year', 'Income Group'], columns='Indicator')\n",
    "data_final.head()"
   ]
  },
  {
   "cell_type": "code",
   "execution_count": null,
   "id": "a8e564f6-f632-4cb4-baa6-0f5be3a7531b",
   "metadata": {},
   "outputs": [],
   "source": [
    "#data_final = data_final.melt(id_vars=['Region', 'Country Code', 'Country', 'Income Group','Indicator',],value_vars=['2000', '2001', '2002', '2003', '2004','2005', '2006', '2007', '2008', '2009', '2010', '2011', '2012', '2013','2014', '2015'], var_name='Year')\n",
    "#data_final = data_final.pivot_table(index=['Region', 'Country Code','Country', 'Year', 'Income Group'], columns='Indicator')\n",
    "#data_final.head()"
   ]
  },
  {
   "cell_type": "code",
   "execution_count": null,
   "id": "9c301ef8-5000-4f0e-a2ad-6eba587dad20",
   "metadata": {},
   "outputs": [],
   "source": [
    "data_final.head(1)"
   ]
  },
  {
   "cell_type": "code",
   "execution_count": null,
   "id": "d6ab483f",
   "metadata": {},
   "outputs": [],
   "source": [
    "data_final.columns = ['Enrolment in post-secondary non-tertiary education, both sexes (number)',\n",
    "                      'Enrolment in secondary education, both sexes (number)',\n",
    "                      'Enrolment in tertiary education, all programmes, both sexes (number)',\n",
    "                      'Expenditure on education as % of total government expenditure (%)',\n",
    "                      'GDP per capita (current US$)',\n",
    "                      'Internet users (per 100 people)',\n",
    "                      'Personal computers (per 100 people)',\n",
    "                      'Population growth (annual %)',\n",
    "                      'Population, total']\n",
    "data_final = data_final.reset_index()\n",
    "\n",
    "data_final.rename(columns={'Enrolment in post-secondary non-tertiary education, both sexes (number)':'Enrolment in post-secondary non-tertiary',\n",
    "                          'Enrolment in secondary education, both sexes (number)':'Enrolment in secondary',\n",
    "                          'Enrolment in tertiary education, all programmes, both sexes (number)':'Enrolment in tertiary',\n",
    "                          'Expenditure on education as % of total government expenditure (%)':'Expenditure on education'}, inplace=True)\n",
    "\n",
    "data_final.head()"
   ]
  },
  {
   "cell_type": "markdown",
   "id": "53af3f78-7cf3-4d80-9ff0-25631109aba3",
   "metadata": {},
   "source": [
    "### 5.Prise en charge des valeurs manquantes"
   ]
  },
  {
   "cell_type": "markdown",
   "id": "129ecdaa-70b1-4f01-9d30-3e9d294dd42c",
   "metadata": {},
   "source": [
    "Il existe 3 catégories de données manquantes, à savoir:\n",
    "\n",
    "- **Missing Completely At Random (MCAR)**: Les données manquantes résultent du hasard : elles sont **aléatoires**. Comme exemple nous avons erreurs de saisie, les pannes de capteur temporaires. Les données manquantes ne sont associées à aucun facteur extérieur en général leur nombre est faible.\n",
    "\n",
    "- **Missing At Random (MAR)**: les valeurs manquantes sont **correlées** entre-elles et leur nombre est variable...\n",
    "\n",
    "- **Missing Not At Random (MNAR)**: les valeurs manquantes sont en **grande quantité**, et leur origine est associée à des facteurs indépendants de notre volonté ou de nos connaissances.\n",
    "\n",
    "Source : https://towardsdatascience.com/advanced-missing-data-imputation-methods-with-sklearn-d9875cbcc6eb\n",
    "\n",
    "Savoir catégoriser les missing values permet de mettre en place la stratégie d'imputation la plus optimale."
   ]
  },
  {
   "cell_type": "markdown",
   "id": "ffdfad0d-7b31-4d05-b203-a980666ef546",
   "metadata": {},
   "source": [
    "#### 5.1. Définition de la stratégie d'imputation"
   ]
  },
  {
   "cell_type": "code",
   "execution_count": null,
   "id": "bf286cf9-93f8-4afb-8854-b7d0b6502662",
   "metadata": {},
   "outputs": [],
   "source": [
    "print(data_final.isnull().mean().sort_values(ascending=False))"
   ]
  },
  {
   "cell_type": "code",
   "execution_count": null,
   "id": "326c28e5-1c3f-4b69-8554-9e3c8bb3d96d",
   "metadata": {},
   "outputs": [],
   "source": [
    "data_final[data_final['Population, total'].isnull()]"
   ]
  },
  {
   "cell_type": "code",
   "execution_count": null,
   "id": "1dc2e12f-6011-441a-a942-2c6efce9e917",
   "metadata": {},
   "outputs": [],
   "source": [
    "data_final.loc[data_final['Country'] == 'Sint Maarten (Dutch part)', ['Population, total']] = data_final.loc[data_final['Country'] == 'Sint Maarten (Dutch part)', ['Population, total']].ffill()\n",
    "data_final.loc[data_final['Country'] == 'Eritrea', ['Population, total']] = data_final.loc[data_final['Country'] == 'Eritrea', ['Population, total']] .ffill()\n",
    "data_final.loc[data_final['Country'] == 'South Sudan', ['Population, total']] = data_final.loc[data_final['Country'] == 'South Sudan', ['Population, total']].ffill()"
   ]
  },
  {
   "cell_type": "code",
   "execution_count": null,
   "id": "4dbe7ef4-83d2-455d-9deb-cc423cfd3b43",
   "metadata": {},
   "outputs": [],
   "source": [
    "data_final[data_final['GDP per capita (current US$)'].isnull()]['Country'].unique()"
   ]
  },
  {
   "cell_type": "code",
   "execution_count": null,
   "id": "cafd08c4-64cf-47b4-b78c-d3fc998dc5d1",
   "metadata": {},
   "outputs": [],
   "source": [
    "data_final = data_final.dropna(subset=['GDP per capita (current US$)'])"
   ]
  },
  {
   "cell_type": "code",
   "execution_count": null,
   "id": "f9018626-3188-4782-bd96-3930f944a1aa",
   "metadata": {},
   "outputs": [],
   "source": [
    "data_final[data_final['Population growth (annual %)'].isnull()]['Country'].unique()"
   ]
  },
  {
   "cell_type": "code",
   "execution_count": null,
   "id": "5db6df2c-7fc2-42f0-8d1d-d9c11b1e5d89",
   "metadata": {},
   "outputs": [],
   "source": [
    "data_final.info()"
   ]
  },
  {
   "cell_type": "code",
   "execution_count": null,
   "id": "c8aed1db-8cc1-4d30-af31-16dd45ce6af7",
   "metadata": {},
   "outputs": [],
   "source": [
    "# data_final = data_final.drop(labels=['Enrolment in post-secondary non-tertiary','Personal computers (per 100 people)'],axis=1)"
   ]
  },
  {
   "cell_type": "code",
   "execution_count": null,
   "id": "0142f655-3444-48ea-953f-e762e46cc227",
   "metadata": {},
   "outputs": [],
   "source": [
    "msno.matrix(data_final, figsize=(9,4), fontsize=8)\n",
    "plt.show()\n",
    "data_final.isnull().mean()[data_final.isnull().mean()>0]"
   ]
  },
  {
   "cell_type": "code",
   "execution_count": null,
   "id": "47a7050b-af7a-4f31-af40-d0b9e745165c",
   "metadata": {},
   "outputs": [],
   "source": [
    "msno.heatmap(data_final, figsize=(9,4), fontsize=8)\n",
    "plt.show()\n",
    "sns.heatmap(data_final.corr(), annot=True, linecolor='k', linewidths=2,vmin=-1, vmax=1)\n",
    "plt.show()"
   ]
  },
  {
   "cell_type": "markdown",
   "id": "568c1d9c-43d4-4b9c-9acb-76e74a4e643a",
   "metadata": {},
   "source": [
    "Nous constatons que certaines variables présentent des corrélations linéaires, notamment :\n",
    "- la variable population est corélée aux variables enrolment in secondary et enrolment in tertiary.\n",
    "- la variable GDP est aussi corélée à Internet Users."
   ]
  },
  {
   "cell_type": "markdown",
   "id": "ab0f3312-1fa3-4c8a-af06-f296762e21ba",
   "metadata": {},
   "source": [
    "Nous avons commencé par une imputation avec KNN imputer, puis itérative imputer, les résustats étaient peu satisfaisants. En effet, plusieurs valeurs négatives apparaissent sur des variables telles que enrolment in tertiary et expenditure.\n",
    "\n",
    "Avec la matrice de corrélation plus haut, nous pouvons constater que certainent variables comportant des données manquantes présentent des corrélations linéaires avec d'autres variables. De ce fait, nous avons décidé d'opter pour prédire les valeurs manquantes de ces variables linéairement corrélées à des variables plutôt complètes(pas ou quasiment pas de nan) par modèle linéaire pour la suite de l'analyse."
   ]
  },
  {
   "cell_type": "code",
   "execution_count": null,
   "id": "029655d2-0092-497b-b8f0-c17a0ac7a523",
   "metadata": {},
   "outputs": [],
   "source": [
    "data_ml = data_final.iloc[:,5:].copy(deep=True)"
   ]
  },
  {
   "cell_type": "markdown",
   "id": "52c972e7-b30d-4dd0-9c6d-f15807fea402",
   "metadata": {},
   "source": [
    "#### Estimation des missing values de Enrolment in secondary "
   ]
  },
  {
   "cell_type": "markdown",
   "id": "248d8bfa-a210-4956-8cdf-603c4a88a0d1",
   "metadata": {},
   "source": [
    "Nous allons **prédire les valeurs manquantes de enrolment in secondary** avec **population totale comme variable explicative** par modèle linéaire"
   ]
  },
  {
   "cell_type": "code",
   "execution_count": null,
   "id": "a7e1baa9-9e26-4a48-9d47-df60e96bb173",
   "metadata": {},
   "outputs": [],
   "source": [
    "sns.scatterplot(data= data_ml, x ='Population, total', y='Enrolment in secondary')\n",
    "plt.show()"
   ]
  },
  {
   "cell_type": "code",
   "execution_count": null,
   "id": "3f83d3ab-89c7-4a14-ae91-0adb0ef1a6f9",
   "metadata": {},
   "outputs": [],
   "source": [
    "def check_outliers(data, threshold = 2):\n",
    "    outliers=[]\n",
    "    mean = np.mean(data)\n",
    "    std = np.std(data)\n",
    "    \n",
    "    for i in data:\n",
    "        z_score = (i- mean)/std\n",
    "        if z_score > threshold:\n",
    "            outliers.append(i)\n",
    "    print(\"Le nombre d'outliers détectés  \" + str(len(outliers)))\n",
    "    return outliers"
   ]
  },
  {
   "cell_type": "code",
   "execution_count": null,
   "id": "09e6dd9f-532d-4367-9a16-cf21a93f8fd4",
   "metadata": {},
   "outputs": [],
   "source": [
    "outliers_pop = hmf.check_outliers(data_ml['Population, total'])"
   ]
  },
  {
   "cell_type": "code",
   "execution_count": null,
   "id": "94111fc7-cf26-42a3-9941-8f35e2071a74",
   "metadata": {},
   "outputs": [],
   "source": [
    "data_secondary = data_ml[~data_ml['Population, total'].isin(outliers_pop)]\n",
    "na_secondary = data_ml[data_ml['Enrolment in secondary'].isnull()]\n",
    "X1 = data_secondary.dropna(subset='Enrolment in secondary')['Population, total']\n",
    "y1 = data_secondary.dropna(subset='Enrolment in secondary')['Enrolment in secondary']\n",
    "sns.scatterplot(data=data_secondary, x ='Population, total', y='Enrolment in secondary')\n",
    "plt.show()\n"
   ]
  },
  {
   "cell_type": "code",
   "execution_count": null,
   "id": "ff2e9828-d14e-41ed-88d5-2f5d4be0c686",
   "metadata": {},
   "outputs": [],
   "source": [
    "from sklearn import metrics\n",
    "from sklearn.model_selection import train_test_split, GridSearchCV\n",
    "from sklearn.preprocessing import StandardScaler\n",
    "from sklearn.pipeline import Pipeline\n",
    "from sklearn.linear_model import LinearRegression, Ridge, Lasso, SGDRegressor, BayesianRidge\n",
    "from sklearn.experimental import enable_iterative_imputer\n",
    "from sklearn.impute import IterativeImputer, KNNImputer\n",
    "from time import time\n"
   ]
  },
  {
   "cell_type": "code",
   "execution_count": null,
   "id": "214d7705-8d1a-4ef5-aa71-a96d090f916e",
   "metadata": {},
   "outputs": [],
   "source": [
    "X1 =X1.values.reshape(-1, 1)\n",
    "\n",
    "X_train, X_test, y_train, y_test = train_test_split(X1, y1, test_size=0.2, random_state=42)\n",
    "print(\"X_train shape : \", X_train.shape,\"\\t\", \"y_train shape : \", y_train.shape,\"\\t\",\"X_test shape : \", X_test.shape,\"\\t\", \"y_test shape : \", y_test.shape)"
   ]
  },
  {
   "cell_type": "code",
   "execution_count": null,
   "id": "7e40ec83-da81-4718-a632-e7643413a5cb",
   "metadata": {},
   "outputs": [],
   "source": [
    "def best_model(model_list, X_train, y_train):\n",
    "    head = 10\n",
    "    for model in model_list[:head]:\n",
    "        start = time()\n",
    "        model.fit(X_train, y_train)\n",
    "        train_time = time() - start\n",
    "        start = time()\n",
    "        y_pred = model.predict(X_test)\n",
    "        predict_time = time()-start    \n",
    "        print(model)\n",
    "        print(\"\\tTraining time: %0.3fs\" % train_time)\n",
    "        print(\"\\tPrediction time: %0.3fs\" % predict_time)\n",
    "        print(\"\\tExplained variance:\", metrics.explained_variance_score(y_test, y_pred))\n",
    "        print(\"\\tMean absolute error:\", metrics.mean_absolute_error(y_test, y_pred))\n",
    "        print(\"\\tR2 score:\", metrics.r2_score(y_test, y_pred),\"\\n\")"
   ]
  },
  {
   "cell_type": "code",
   "execution_count": null,
   "id": "381e3c8f-b169-48ca-84a9-30b9ff7a614b",
   "metadata": {},
   "outputs": [],
   "source": [
    "regressors = [LinearRegression(), Ridge(), Lasso(), SGDRegressor(), BayesianRidge()]\n",
    "best_model(regressors, X_train, y_train)"
   ]
  },
  {
   "cell_type": "code",
   "execution_count": null,
   "id": "c95fbbaf-c567-4c7d-bf34-93e7234ec380",
   "metadata": {},
   "outputs": [],
   "source": [
    "X_train"
   ]
  },
  {
   "cell_type": "code",
   "execution_count": null,
   "id": "f95f01cd-1dfe-451e-92eb-27ce927c1a87",
   "metadata": {},
   "outputs": [],
   "source": [
    "pipeline = Pipeline([('scaler', StandardScaler()),(\"estimator\", Ridge())])\n",
    "params = {'estimator__alpha':[1, 10]}\n",
    "\n",
    "# define the grid search\n",
    "model_ridge = GridSearchCV(pipeline, param_grid=params,cv=5)\n",
    "model_ridge.fit(X_train, y_train)"
   ]
  },
  {
   "cell_type": "code",
   "execution_count": null,
   "id": "8dd0cfa9-404b-4c4c-b792-b505872edc7e",
   "metadata": {},
   "outputs": [],
   "source": [
    "model_ridge_opti = model_ridge.best_estimator_\n",
    "model_ridge_opti.score(X_test, y_test)"
   ]
  },
  {
   "cell_type": "code",
   "execution_count": null,
   "id": "c70fa000-2dff-47bf-9f2b-dbce6d7f660a",
   "metadata": {},
   "outputs": [],
   "source": [
    "# On prédit\n",
    "predict_na_secondary = model_ridge_opti.predict(na_secondary[['Population, total']])\n",
    "\n",
    "#On impute\n",
    "data_ml.loc[data_ml['Enrolment in secondary'].isnull(), 'Enrolment in secondary'] = predict_na_secondary"
   ]
  },
  {
   "cell_type": "code",
   "execution_count": null,
   "id": "27e95a7c-7128-4e30-9628-756697112b23",
   "metadata": {},
   "outputs": [],
   "source": [
    "msno.matrix(data_ml, figsize=(9,4), fontsize=8)\n",
    "plt.show()"
   ]
  },
  {
   "cell_type": "markdown",
   "id": "7a087b6b-08f0-42d4-bccb-f38d24bc00e4",
   "metadata": {},
   "source": [
    "#### Estimation des missing values de Enrolment in tertiary"
   ]
  },
  {
   "cell_type": "markdown",
   "id": "617b6c62-fb2c-45ed-a758-f7a13b3fb763",
   "metadata": {},
   "source": [
    "Nous allons **prédire les valeurs manquantes de enrolment in tertiary** avec **enrolment in secondary comme variale explicative** par modèle linéaire"
   ]
  },
  {
   "cell_type": "code",
   "execution_count": 55,
   "id": "ceeceaf2-5795-4005-9520-38f50597b99c",
   "metadata": {},
   "outputs": [
    {
     "name": "stdout",
     "output_type": "stream",
     "text": [
      "<class 'pandas.core.frame.DataFrame'>\n",
      "Int64Index: 2053 entries, 7 to 3419\n",
      "Data columns (total 3 columns):\n",
      " #   Column                  Non-Null Count  Dtype  \n",
      "---  ------                  --------------  -----  \n",
      " 0   Population, total       2053 non-null   float64\n",
      " 1   Enrolment in secondary  2053 non-null   float64\n",
      " 2   Enrolment in tertiary   2053 non-null   float64\n",
      "dtypes: float64(3)\n",
      "memory usage: 64.2 KB\n"
     ]
    }
   ],
   "source": [
    "data_tertiary = data_ml[['Population, total', \"Enrolment in secondary\", \"Enrolment in tertiary\"]]\n",
    "na_tertiary = data_ml[data_ml['Enrolment in tertiary'].isnull()]\n",
    "data_tertiary = data_tertiary.dropna()\n",
    "data_tertiary.info()"
   ]
  },
  {
   "cell_type": "code",
   "execution_count": 56,
   "id": "8bbf857a-ec1d-4bc8-96f9-0328551b640d",
   "metadata": {},
   "outputs": [
    {
     "data": {
      "text/html": [
       "<div>\n",
       "<style scoped>\n",
       "    .dataframe tbody tr th:only-of-type {\n",
       "        vertical-align: middle;\n",
       "    }\n",
       "\n",
       "    .dataframe tbody tr th {\n",
       "        vertical-align: top;\n",
       "    }\n",
       "\n",
       "    .dataframe thead th {\n",
       "        text-align: right;\n",
       "    }\n",
       "</style>\n",
       "<table border=\"1\" class=\"dataframe\">\n",
       "  <thead>\n",
       "    <tr style=\"text-align: right;\">\n",
       "      <th></th>\n",
       "      <th>Population, total</th>\n",
       "      <th>Enrolment in secondary</th>\n",
       "      <th>Enrolment in tertiary</th>\n",
       "    </tr>\n",
       "  </thead>\n",
       "  <tbody>\n",
       "    <tr>\n",
       "      <th>Population, total</th>\n",
       "      <td>1.000000</td>\n",
       "      <td>0.988667</td>\n",
       "      <td>0.869389</td>\n",
       "    </tr>\n",
       "    <tr>\n",
       "      <th>Enrolment in secondary</th>\n",
       "      <td>0.988667</td>\n",
       "      <td>1.000000</td>\n",
       "      <td>0.873316</td>\n",
       "    </tr>\n",
       "    <tr>\n",
       "      <th>Enrolment in tertiary</th>\n",
       "      <td>0.869389</td>\n",
       "      <td>0.873316</td>\n",
       "      <td>1.000000</td>\n",
       "    </tr>\n",
       "  </tbody>\n",
       "</table>\n",
       "</div>"
      ],
      "text/plain": [
       "                        Population, total  Enrolment in secondary  \\\n",
       "Population, total                1.000000                0.988667   \n",
       "Enrolment in secondary           0.988667                1.000000   \n",
       "Enrolment in tertiary            0.869389                0.873316   \n",
       "\n",
       "                        Enrolment in tertiary  \n",
       "Population, total                    0.869389  \n",
       "Enrolment in secondary               0.873316  \n",
       "Enrolment in tertiary                1.000000  "
      ]
     },
     "execution_count": 56,
     "metadata": {},
     "output_type": "execute_result"
    }
   ],
   "source": [
    "data_tertiary.corr()"
   ]
  },
  {
   "cell_type": "code",
   "execution_count": 57,
   "id": "6270d85c-82f4-4c1f-bd24-97931667fade",
   "metadata": {},
   "outputs": [],
   "source": [
    "X2 = data_tertiary[['Population, total', \"Enrolment in secondary\"]]\n",
    "y2 = data_tertiary[[\"Enrolment in tertiary\"]]"
   ]
  },
  {
   "cell_type": "code",
   "execution_count": 58,
   "id": "4bf6a7ed-1a0e-4759-a046-4bc003ffb3bd",
   "metadata": {},
   "outputs": [
    {
     "name": "stdout",
     "output_type": "stream",
     "text": [
      "X_train_2 shape :  (1642, 2) \t y_train_2 shape :  (1642, 1) \t X_test_2 shape :  (411, 2) \t y_test_2 shape :  (411, 1)\n"
     ]
    }
   ],
   "source": [
    "X_train_2, X_test_2, y_train_2, y_test_2 = train_test_split(X2, y2, test_size=0.2, random_state=42)\n",
    "print(\"X_train_2 shape : \", X_train_2.shape,\"\\t\", \"y_train_2 shape : \", y_train_2.shape,\"\\t\",\"X_test_2 shape : \", X_test_2.shape,\"\\t\", \"y_test_2 shape : \", y_test_2.shape)"
   ]
  },
  {
   "cell_type": "code",
   "execution_count": 59,
   "id": "d8db6c4a-56e3-439e-8f0d-2a304f7e691a",
   "metadata": {},
   "outputs": [
    {
     "data": {
      "text/html": [
       "<style>#sk-container-id-2 {color: black;background-color: white;}#sk-container-id-2 pre{padding: 0;}#sk-container-id-2 div.sk-toggleable {background-color: white;}#sk-container-id-2 label.sk-toggleable__label {cursor: pointer;display: block;width: 100%;margin-bottom: 0;padding: 0.3em;box-sizing: border-box;text-align: center;}#sk-container-id-2 label.sk-toggleable__label-arrow:before {content: \"▸\";float: left;margin-right: 0.25em;color: #696969;}#sk-container-id-2 label.sk-toggleable__label-arrow:hover:before {color: black;}#sk-container-id-2 div.sk-estimator:hover label.sk-toggleable__label-arrow:before {color: black;}#sk-container-id-2 div.sk-toggleable__content {max-height: 0;max-width: 0;overflow: hidden;text-align: left;background-color: #f0f8ff;}#sk-container-id-2 div.sk-toggleable__content pre {margin: 0.2em;color: black;border-radius: 0.25em;background-color: #f0f8ff;}#sk-container-id-2 input.sk-toggleable__control:checked~div.sk-toggleable__content {max-height: 200px;max-width: 100%;overflow: auto;}#sk-container-id-2 input.sk-toggleable__control:checked~label.sk-toggleable__label-arrow:before {content: \"▾\";}#sk-container-id-2 div.sk-estimator input.sk-toggleable__control:checked~label.sk-toggleable__label {background-color: #d4ebff;}#sk-container-id-2 div.sk-label input.sk-toggleable__control:checked~label.sk-toggleable__label {background-color: #d4ebff;}#sk-container-id-2 input.sk-hidden--visually {border: 0;clip: rect(1px 1px 1px 1px);clip: rect(1px, 1px, 1px, 1px);height: 1px;margin: -1px;overflow: hidden;padding: 0;position: absolute;width: 1px;}#sk-container-id-2 div.sk-estimator {font-family: monospace;background-color: #f0f8ff;border: 1px dotted black;border-radius: 0.25em;box-sizing: border-box;margin-bottom: 0.5em;}#sk-container-id-2 div.sk-estimator:hover {background-color: #d4ebff;}#sk-container-id-2 div.sk-parallel-item::after {content: \"\";width: 100%;border-bottom: 1px solid gray;flex-grow: 1;}#sk-container-id-2 div.sk-label:hover label.sk-toggleable__label {background-color: #d4ebff;}#sk-container-id-2 div.sk-serial::before {content: \"\";position: absolute;border-left: 1px solid gray;box-sizing: border-box;top: 0;bottom: 0;left: 50%;z-index: 0;}#sk-container-id-2 div.sk-serial {display: flex;flex-direction: column;align-items: center;background-color: white;padding-right: 0.2em;padding-left: 0.2em;position: relative;}#sk-container-id-2 div.sk-item {position: relative;z-index: 1;}#sk-container-id-2 div.sk-parallel {display: flex;align-items: stretch;justify-content: center;background-color: white;position: relative;}#sk-container-id-2 div.sk-item::before, #sk-container-id-2 div.sk-parallel-item::before {content: \"\";position: absolute;border-left: 1px solid gray;box-sizing: border-box;top: 0;bottom: 0;left: 50%;z-index: -1;}#sk-container-id-2 div.sk-parallel-item {display: flex;flex-direction: column;z-index: 1;position: relative;background-color: white;}#sk-container-id-2 div.sk-parallel-item:first-child::after {align-self: flex-end;width: 50%;}#sk-container-id-2 div.sk-parallel-item:last-child::after {align-self: flex-start;width: 50%;}#sk-container-id-2 div.sk-parallel-item:only-child::after {width: 0;}#sk-container-id-2 div.sk-dashed-wrapped {border: 1px dashed gray;margin: 0 0.4em 0.5em 0.4em;box-sizing: border-box;padding-bottom: 0.4em;background-color: white;}#sk-container-id-2 div.sk-label label {font-family: monospace;font-weight: bold;display: inline-block;line-height: 1.2em;}#sk-container-id-2 div.sk-label-container {text-align: center;}#sk-container-id-2 div.sk-container {/* jupyter's `normalize.less` sets `[hidden] { display: none; }` but bootstrap.min.css set `[hidden] { display: none !important; }` so we also need the `!important` here to be able to override the default hidden behavior on the sphinx rendered scikit-learn.org. See: https://github.com/scikit-learn/scikit-learn/issues/21755 */display: inline-block !important;position: relative;}#sk-container-id-2 div.sk-text-repr-fallback {display: none;}</style><div id=\"sk-container-id-2\" class=\"sk-top-container\"><div class=\"sk-text-repr-fallback\"><pre>GridSearchCV(cv=5,\n",
       "             estimator=Pipeline(steps=[(&#x27;scaler&#x27;, StandardScaler()),\n",
       "                                       (&#x27;estimator&#x27;, Ridge())]),\n",
       "             param_grid={&#x27;estimator__alpha&#x27;: [1, 10]})</pre><b>In a Jupyter environment, please rerun this cell to show the HTML representation or trust the notebook. <br />On GitHub, the HTML representation is unable to render, please try loading this page with nbviewer.org.</b></div><div class=\"sk-container\" hidden><div class=\"sk-item sk-dashed-wrapped\"><div class=\"sk-label-container\"><div class=\"sk-label sk-toggleable\"><input class=\"sk-toggleable__control sk-hidden--visually\" id=\"sk-estimator-id-5\" type=\"checkbox\" ><label for=\"sk-estimator-id-5\" class=\"sk-toggleable__label sk-toggleable__label-arrow\">GridSearchCV</label><div class=\"sk-toggleable__content\"><pre>GridSearchCV(cv=5,\n",
       "             estimator=Pipeline(steps=[(&#x27;scaler&#x27;, StandardScaler()),\n",
       "                                       (&#x27;estimator&#x27;, Ridge())]),\n",
       "             param_grid={&#x27;estimator__alpha&#x27;: [1, 10]})</pre></div></div></div><div class=\"sk-parallel\"><div class=\"sk-parallel-item\"><div class=\"sk-item\"><div class=\"sk-label-container\"><div class=\"sk-label sk-toggleable\"><input class=\"sk-toggleable__control sk-hidden--visually\" id=\"sk-estimator-id-6\" type=\"checkbox\" ><label for=\"sk-estimator-id-6\" class=\"sk-toggleable__label sk-toggleable__label-arrow\">estimator: Pipeline</label><div class=\"sk-toggleable__content\"><pre>Pipeline(steps=[(&#x27;scaler&#x27;, StandardScaler()), (&#x27;estimator&#x27;, Ridge())])</pre></div></div></div><div class=\"sk-serial\"><div class=\"sk-item\"><div class=\"sk-serial\"><div class=\"sk-item\"><div class=\"sk-estimator sk-toggleable\"><input class=\"sk-toggleable__control sk-hidden--visually\" id=\"sk-estimator-id-7\" type=\"checkbox\" ><label for=\"sk-estimator-id-7\" class=\"sk-toggleable__label sk-toggleable__label-arrow\">StandardScaler</label><div class=\"sk-toggleable__content\"><pre>StandardScaler()</pre></div></div></div><div class=\"sk-item\"><div class=\"sk-estimator sk-toggleable\"><input class=\"sk-toggleable__control sk-hidden--visually\" id=\"sk-estimator-id-8\" type=\"checkbox\" ><label for=\"sk-estimator-id-8\" class=\"sk-toggleable__label sk-toggleable__label-arrow\">Ridge</label><div class=\"sk-toggleable__content\"><pre>Ridge()</pre></div></div></div></div></div></div></div></div></div></div></div></div>"
      ],
      "text/plain": [
       "GridSearchCV(cv=5,\n",
       "             estimator=Pipeline(steps=[('scaler', StandardScaler()),\n",
       "                                       ('estimator', Ridge())]),\n",
       "             param_grid={'estimator__alpha': [1, 10]})"
      ]
     },
     "execution_count": 59,
     "metadata": {},
     "output_type": "execute_result"
    }
   ],
   "source": [
    "# define the grid search\n",
    "model_ridge_2 = GridSearchCV(pipeline, param_grid=params,cv=5)\n",
    "model_ridge_2.fit(X_train_2, y_train_2)"
   ]
  },
  {
   "cell_type": "code",
   "execution_count": 60,
   "id": "427b602c-8d6c-4d6c-b96b-faef0375c2d7",
   "metadata": {},
   "outputs": [
    {
     "data": {
      "text/plain": [
       "0.7726777198283569"
      ]
     },
     "execution_count": 60,
     "metadata": {},
     "output_type": "execute_result"
    }
   ],
   "source": [
    "model_ridge_opti_2 = model_ridge_2.best_estimator_\n",
    "model_ridge_opti_2.score(X_test_2, y_test_2)"
   ]
  },
  {
   "cell_type": "code",
   "execution_count": 61,
   "id": "67979ae0-9aa4-44b9-91a7-45cd814b5f9c",
   "metadata": {},
   "outputs": [],
   "source": [
    "# On prédit\n",
    "predict_na_tertiary = model_ridge_opti_2.predict(na_tertiary[['Population, total', 'Enrolment in secondary']]).reshape(-1)\n",
    "\n",
    "# On impute\n",
    "data_ml['Enrolment in tertiary'][data_ml['Enrolment in tertiary'].isnull()] = predict_na_tertiary"
   ]
  },
  {
   "cell_type": "code",
   "execution_count": 62,
   "id": "07fe9e92-b312-49fc-8ba6-a97aa81f9b38",
   "metadata": {},
   "outputs": [
    {
     "data": {
      "image/png": "[encoded data removed]",
      "text/plain": [
       "<Figure size 900x400 with 2 Axes>"
      ]
     },
     "metadata": {},
     "output_type": "display_data"
    }
   ],
   "source": [
    "msno.matrix(data_ml, figsize=(9,4), fontsize=8)\n",
    "plt.show()"
   ]
  },
  {
   "cell_type": "code",
   "execution_count": 63,
   "id": "8ff603a3-7616-4428-bced-b07ec268132c",
   "metadata": {},
   "outputs": [
    {
     "data": {
      "text/html": [
       "<div>\n",
       "<style scoped>\n",
       "    .dataframe tbody tr th:only-of-type {\n",
       "        vertical-align: middle;\n",
       "    }\n",
       "\n",
       "    .dataframe tbody tr th {\n",
       "        vertical-align: top;\n",
       "    }\n",
       "\n",
       "    .dataframe thead th {\n",
       "        text-align: right;\n",
       "    }\n",
       "</style>\n",
       "<table border=\"1\" class=\"dataframe\">\n",
       "  <thead>\n",
       "    <tr style=\"text-align: right;\">\n",
       "      <th></th>\n",
       "      <th>Enrolment in post-secondary non-tertiary</th>\n",
       "      <th>Enrolment in secondary</th>\n",
       "      <th>Enrolment in tertiary</th>\n",
       "      <th>Expenditure on education</th>\n",
       "      <th>GDP per capita (current US$)</th>\n",
       "      <th>Internet users (per 100 people)</th>\n",
       "      <th>Personal computers (per 100 people)</th>\n",
       "      <th>Population growth (annual %)</th>\n",
       "      <th>Population, total</th>\n",
       "    </tr>\n",
       "  </thead>\n",
       "  <tbody>\n",
       "    <tr>\n",
       "      <th>count</th>\n",
       "      <td>1.111000e+03</td>\n",
       "      <td>3.224000e+03</td>\n",
       "      <td>3.224000e+03</td>\n",
       "      <td>1720.000000</td>\n",
       "      <td>3224.000000</td>\n",
       "      <td>3081.000000</td>\n",
       "      <td>1214.000000</td>\n",
       "      <td>3223.000000</td>\n",
       "      <td>3.224000e+03</td>\n",
       "    </tr>\n",
       "    <tr>\n",
       "      <th>mean</th>\n",
       "      <td>6.454886e+04</td>\n",
       "      <td>2.612295e+06</td>\n",
       "      <td>8.801425e+05</td>\n",
       "      <td>15.066585</td>\n",
       "      <td>13491.267650</td>\n",
       "      <td>27.850645</td>\n",
       "      <td>13.697326</td>\n",
       "      <td>1.438492</td>\n",
       "      <td>3.294682e+07</td>\n",
       "    </tr>\n",
       "    <tr>\n",
       "      <th>std</th>\n",
       "      <td>1.628018e+05</td>\n",
       "      <td>1.015289e+07</td>\n",
       "      <td>2.806985e+06</td>\n",
       "      <td>4.944724</td>\n",
       "      <td>21319.816563</td>\n",
       "      <td>27.347530</td>\n",
       "      <td>19.451937</td>\n",
       "      <td>1.526747</td>\n",
       "      <td>1.288985e+08</td>\n",
       "    </tr>\n",
       "    <tr>\n",
       "      <th>min</th>\n",
       "      <td>3.000000e+00</td>\n",
       "      <td>9.120000e+02</td>\n",
       "      <td>7.300000e+01</td>\n",
       "      <td>3.103290</td>\n",
       "      <td>111.363436</td>\n",
       "      <td>0.000000</td>\n",
       "      <td>0.014533</td>\n",
       "      <td>-3.589465</td>\n",
       "      <td>9.420000e+03</td>\n",
       "    </tr>\n",
       "    <tr>\n",
       "      <th>25%</th>\n",
       "      <td>1.787000e+03</td>\n",
       "      <td>8.079900e+04</td>\n",
       "      <td>1.216980e+05</td>\n",
       "      <td>11.409578</td>\n",
       "      <td>1167.970356</td>\n",
       "      <td>4.000000</td>\n",
       "      <td>1.367602</td>\n",
       "      <td>0.465692</td>\n",
       "      <td>1.134177e+06</td>\n",
       "    </tr>\n",
       "    <tr>\n",
       "      <th>50%</th>\n",
       "      <td>1.119900e+04</td>\n",
       "      <td>4.649545e+05</td>\n",
       "      <td>2.568887e+05</td>\n",
       "      <td>14.431720</td>\n",
       "      <td>4138.849955</td>\n",
       "      <td>17.760000</td>\n",
       "      <td>4.896394</td>\n",
       "      <td>1.265969</td>\n",
       "      <td>5.999080e+06</td>\n",
       "    </tr>\n",
       "    <tr>\n",
       "      <th>75%</th>\n",
       "      <td>4.550750e+04</td>\n",
       "      <td>1.574111e+06</td>\n",
       "      <td>5.011564e+05</td>\n",
       "      <td>18.264078</td>\n",
       "      <td>16355.614016</td>\n",
       "      <td>47.961624</td>\n",
       "      <td>15.871036</td>\n",
       "      <td>2.295972</td>\n",
       "      <td>2.061322e+07</td>\n",
       "    </tr>\n",
       "    <tr>\n",
       "      <th>max</th>\n",
       "      <td>1.672523e+06</td>\n",
       "      <td>1.295421e+08</td>\n",
       "      <td>4.336739e+07</td>\n",
       "      <td>44.801800</td>\n",
       "      <td>192989.189527</td>\n",
       "      <td>98.200000</td>\n",
       "      <td>96.170657</td>\n",
       "      <td>16.331638</td>\n",
       "      <td>1.371220e+09</td>\n",
       "    </tr>\n",
       "  </tbody>\n",
       "</table>\n",
       "</div>"
      ],
      "text/plain": [
       "       Enrolment in post-secondary non-tertiary  Enrolment in secondary  \\\n",
       "count                              1.111000e+03            3.224000e+03   \n",
       "mean                               6.454886e+04            2.612295e+06   \n",
       "std                                1.628018e+05            1.015289e+07   \n",
       "min                                3.000000e+00            9.120000e+02   \n",
       "25%                                1.787000e+03            8.079900e+04   \n",
       "50%                                1.119900e+04            4.649545e+05   \n",
       "75%                                4.550750e+04            1.574111e+06   \n",
       "max                                1.672523e+06            1.295421e+08   \n",
       "\n",
       "       Enrolment in tertiary  Expenditure on education  \\\n",
       "count           3.224000e+03               1720.000000   \n",
       "mean            8.801425e+05                 15.066585   \n",
       "std             2.806985e+06                  4.944724   \n",
       "min             7.300000e+01                  3.103290   \n",
       "25%             1.216980e+05                 11.409578   \n",
       "50%             2.568887e+05                 14.431720   \n",
       "75%             5.011564e+05                 18.264078   \n",
       "max             4.336739e+07                 44.801800   \n",
       "\n",
       "       GDP per capita (current US$)  Internet users (per 100 people)  \\\n",
       "count                   3224.000000                      3081.000000   \n",
       "mean                   13491.267650                        27.850645   \n",
       "std                    21319.816563                        27.347530   \n",
       "min                      111.363436                         0.000000   \n",
       "25%                     1167.970356                         4.000000   \n",
       "50%                     4138.849955                        17.760000   \n",
       "75%                    16355.614016                        47.961624   \n",
       "max                   192989.189527                        98.200000   \n",
       "\n",
       "       Personal computers (per 100 people)  Population growth (annual %)  \\\n",
       "count                          1214.000000                   3223.000000   \n",
       "mean                             13.697326                      1.438492   \n",
       "std                              19.451937                      1.526747   \n",
       "min                               0.014533                     -3.589465   \n",
       "25%                               1.367602                      0.465692   \n",
       "50%                               4.896394                      1.265969   \n",
       "75%                              15.871036                      2.295972   \n",
       "max                              96.170657                     16.331638   \n",
       "\n",
       "       Population, total  \n",
       "count       3.224000e+03  \n",
       "mean        3.294682e+07  \n",
       "std         1.288985e+08  \n",
       "min         9.420000e+03  \n",
       "25%         1.134177e+06  \n",
       "50%         5.999080e+06  \n",
       "75%         2.061322e+07  \n",
       "max         1.371220e+09  "
      ]
     },
     "execution_count": 63,
     "metadata": {},
     "output_type": "execute_result"
    }
   ],
   "source": [
    "data_ml.describe()"
   ]
  },
  {
   "cell_type": "markdown",
   "id": "351d47d5-9f66-4ff5-a47c-4e80a0ca3648",
   "metadata": {},
   "source": [
    "#### Estimation des autres missing values"
   ]
  },
  {
   "cell_type": "code",
   "execution_count": 64,
   "id": "77a6e5ec-dd84-471d-8d2b-c17ee280bdb1",
   "metadata": {},
   "outputs": [
    {
     "data": {
      "text/plain": [
       "Enrolment in post-secondary non-tertiary    2113\n",
       "Enrolment in secondary                         0\n",
       "Enrolment in tertiary                          0\n",
       "Expenditure on education                    1504\n",
       "GDP per capita (current US$)                   0\n",
       "Internet users (per 100 people)              143\n",
       "Personal computers (per 100 people)         2010\n",
       "Population growth (annual %)                   1\n",
       "Population, total                              0\n",
       "dtype: int64"
      ]
     },
     "execution_count": 64,
     "metadata": {},
     "output_type": "execute_result"
    }
   ],
   "source": [
    "data_ml.isna().sum()"
   ]
  },
  {
   "cell_type": "code",
   "execution_count": 65,
   "id": "ce9170b8-87de-4ebb-b55d-f48bf5ffb833",
   "metadata": {},
   "outputs": [
    {
     "data": {
      "text/plain": [
       "Enrolment in post-secondary non-tertiary    0\n",
       "Enrolment in secondary                      0\n",
       "Enrolment in tertiary                       0\n",
       "Expenditure on education                    0\n",
       "GDP per capita (current US$)                0\n",
       "Internet users (per 100 people)             0\n",
       "Personal computers (per 100 people)         0\n",
       "Population growth (annual %)                0\n",
       "Population, total                           0\n",
       "dtype: int64"
      ]
     },
     "execution_count": 65,
     "metadata": {},
     "output_type": "execute_result"
    }
   ],
   "source": [
    "# Imputaions..\n",
    "iterimp =  IterativeImputer()\n",
    "data_ml.iloc[:,:] = iterimp.fit_transform(data_ml)\n",
    "data_ml.isna().sum()"
   ]
  },
  {
   "cell_type": "code",
   "execution_count": 66,
   "id": "444fab59-ab38-4876-be1a-8af5755b6ebe",
   "metadata": {},
   "outputs": [
    {
     "data": {
      "text/html": [
       "<div>\n",
       "<style scoped>\n",
       "    .dataframe tbody tr th:only-of-type {\n",
       "        vertical-align: middle;\n",
       "    }\n",
       "\n",
       "    .dataframe tbody tr th {\n",
       "        vertical-align: top;\n",
       "    }\n",
       "\n",
       "    .dataframe thead th {\n",
       "        text-align: right;\n",
       "    }\n",
       "</style>\n",
       "<table border=\"1\" class=\"dataframe\">\n",
       "  <thead>\n",
       "    <tr style=\"text-align: right;\">\n",
       "      <th></th>\n",
       "      <th>Enrolment in post-secondary non-tertiary</th>\n",
       "      <th>Enrolment in secondary</th>\n",
       "      <th>Enrolment in tertiary</th>\n",
       "      <th>Expenditure on education</th>\n",
       "      <th>GDP per capita (current US$)</th>\n",
       "      <th>Internet users (per 100 people)</th>\n",
       "      <th>Personal computers (per 100 people)</th>\n",
       "      <th>Population growth (annual %)</th>\n",
       "      <th>Population, total</th>\n",
       "    </tr>\n",
       "  </thead>\n",
       "  <tbody>\n",
       "    <tr>\n",
       "      <th>2</th>\n",
       "      <td>38417.276653</td>\n",
       "      <td>13508.322292</td>\n",
       "      <td>250782.681620</td>\n",
       "      <td>15.397179</td>\n",
       "      <td>8751.766529</td>\n",
       "      <td>26.023380</td>\n",
       "      <td>19.044292</td>\n",
       "      <td>0.951199</td>\n",
       "      <td>58731.0</td>\n",
       "    </tr>\n",
       "    <tr>\n",
       "      <th>3</th>\n",
       "      <td>38417.396380</td>\n",
       "      <td>13538.987352</td>\n",
       "      <td>250790.024616</td>\n",
       "      <td>15.370253</td>\n",
       "      <td>8914.525433</td>\n",
       "      <td>27.256721</td>\n",
       "      <td>19.844786</td>\n",
       "      <td>0.655083</td>\n",
       "      <td>59117.0</td>\n",
       "    </tr>\n",
       "    <tr>\n",
       "      <th>4</th>\n",
       "      <td>38417.608773</td>\n",
       "      <td>13550.665496</td>\n",
       "      <td>250792.821042</td>\n",
       "      <td>15.357394</td>\n",
       "      <td>8639.308855</td>\n",
       "      <td>28.547918</td>\n",
       "      <td>20.470555</td>\n",
       "      <td>0.248351</td>\n",
       "      <td>59264.0</td>\n",
       "    </tr>\n",
       "    <tr>\n",
       "      <th>5</th>\n",
       "      <td>38417.597784</td>\n",
       "      <td>13539.066795</td>\n",
       "      <td>250790.043639</td>\n",
       "      <td>15.331877</td>\n",
       "      <td>8508.406915</td>\n",
       "      <td>30.284170</td>\n",
       "      <td>21.425952</td>\n",
       "      <td>-0.246659</td>\n",
       "      <td>59118.0</td>\n",
       "    </tr>\n",
       "    <tr>\n",
       "      <th>6</th>\n",
       "      <td>38417.380460</td>\n",
       "      <td>13501.887397</td>\n",
       "      <td>250781.140732</td>\n",
       "      <td>15.299100</td>\n",
       "      <td>8456.947997</td>\n",
       "      <td>32.282248</td>\n",
       "      <td>22.572669</td>\n",
       "      <td>-0.794787</td>\n",
       "      <td>58650.0</td>\n",
       "    </tr>\n",
       "  </tbody>\n",
       "</table>\n",
       "</div>"
      ],
      "text/plain": [
       "   Enrolment in post-secondary non-tertiary  Enrolment in secondary  \\\n",
       "2                              38417.276653            13508.322292   \n",
       "3                              38417.396380            13538.987352   \n",
       "4                              38417.608773            13550.665496   \n",
       "5                              38417.597784            13539.066795   \n",
       "6                              38417.380460            13501.887397   \n",
       "\n",
       "   Enrolment in tertiary  Expenditure on education  \\\n",
       "2          250782.681620                 15.397179   \n",
       "3          250790.024616                 15.370253   \n",
       "4          250792.821042                 15.357394   \n",
       "5          250790.043639                 15.331877   \n",
       "6          250781.140732                 15.299100   \n",
       "\n",
       "   GDP per capita (current US$)  Internet users (per 100 people)  \\\n",
       "2                   8751.766529                        26.023380   \n",
       "3                   8914.525433                        27.256721   \n",
       "4                   8639.308855                        28.547918   \n",
       "5                   8508.406915                        30.284170   \n",
       "6                   8456.947997                        32.282248   \n",
       "\n",
       "   Personal computers (per 100 people)  Population growth (annual %)  \\\n",
       "2                            19.044292                      0.951199   \n",
       "3                            19.844786                      0.655083   \n",
       "4                            20.470555                      0.248351   \n",
       "5                            21.425952                     -0.246659   \n",
       "6                            22.572669                     -0.794787   \n",
       "\n",
       "   Population, total  \n",
       "2            58731.0  \n",
       "3            59117.0  \n",
       "4            59264.0  \n",
       "5            59118.0  \n",
       "6            58650.0  "
      ]
     },
     "execution_count": 66,
     "metadata": {},
     "output_type": "execute_result"
    }
   ],
   "source": [
    "data_ml.head()"
   ]
  },
  {
   "cell_type": "code",
   "execution_count": 67,
   "id": "39f6cb56-9f57-4ad7-b8d4-2885df775251",
   "metadata": {},
   "outputs": [
    {
     "data": {
      "text/html": [
       "<div>\n",
       "<style scoped>\n",
       "    .dataframe tbody tr th:only-of-type {\n",
       "        vertical-align: middle;\n",
       "    }\n",
       "\n",
       "    .dataframe tbody tr th {\n",
       "        vertical-align: top;\n",
       "    }\n",
       "\n",
       "    .dataframe thead th {\n",
       "        text-align: right;\n",
       "    }\n",
       "</style>\n",
       "<table border=\"1\" class=\"dataframe\">\n",
       "  <thead>\n",
       "    <tr style=\"text-align: right;\">\n",
       "      <th></th>\n",
       "      <th>Enrolment in post-secondary non-tertiary</th>\n",
       "      <th>Enrolment in secondary</th>\n",
       "      <th>Enrolment in tertiary</th>\n",
       "      <th>Expenditure on education</th>\n",
       "      <th>GDP per capita (current US$)</th>\n",
       "      <th>Internet users (per 100 people)</th>\n",
       "      <th>Personal computers (per 100 people)</th>\n",
       "      <th>Population growth (annual %)</th>\n",
       "      <th>Population, total</th>\n",
       "    </tr>\n",
       "  </thead>\n",
       "  <tbody>\n",
       "    <tr>\n",
       "      <th>count</th>\n",
       "      <td>3.224000e+03</td>\n",
       "      <td>3.224000e+03</td>\n",
       "      <td>3.224000e+03</td>\n",
       "      <td>3224.000000</td>\n",
       "      <td>3224.000000</td>\n",
       "      <td>3224.000000</td>\n",
       "      <td>3224.000000</td>\n",
       "      <td>3224.000000</td>\n",
       "      <td>3.224000e+03</td>\n",
       "    </tr>\n",
       "    <tr>\n",
       "      <th>mean</th>\n",
       "      <td>5.546459e+04</td>\n",
       "      <td>2.612295e+06</td>\n",
       "      <td>8.801425e+05</td>\n",
       "      <td>15.075266</td>\n",
       "      <td>13491.267650</td>\n",
       "      <td>28.076066</td>\n",
       "      <td>22.625904</td>\n",
       "      <td>1.438247</td>\n",
       "      <td>3.294682e+07</td>\n",
       "    </tr>\n",
       "    <tr>\n",
       "      <th>std</th>\n",
       "      <td>1.055034e+05</td>\n",
       "      <td>1.015289e+07</td>\n",
       "      <td>2.806985e+06</td>\n",
       "      <td>3.710593</td>\n",
       "      <td>21319.816563</td>\n",
       "      <td>27.080331</td>\n",
       "      <td>24.639452</td>\n",
       "      <td>1.526574</td>\n",
       "      <td>1.288985e+08</td>\n",
       "    </tr>\n",
       "    <tr>\n",
       "      <th>min</th>\n",
       "      <td>3.000000e+00</td>\n",
       "      <td>9.120000e+02</td>\n",
       "      <td>7.300000e+01</td>\n",
       "      <td>3.103290</td>\n",
       "      <td>111.363436</td>\n",
       "      <td>0.000000</td>\n",
       "      <td>-1.329555</td>\n",
       "      <td>-3.589465</td>\n",
       "      <td>9.420000e+03</td>\n",
       "    </tr>\n",
       "    <tr>\n",
       "      <th>25%</th>\n",
       "      <td>3.241040e+04</td>\n",
       "      <td>8.079900e+04</td>\n",
       "      <td>1.216980e+05</td>\n",
       "      <td>13.162020</td>\n",
       "      <td>1167.970356</td>\n",
       "      <td>4.372650</td>\n",
       "      <td>3.370398</td>\n",
       "      <td>0.465717</td>\n",
       "      <td>1.134177e+06</td>\n",
       "    </tr>\n",
       "    <tr>\n",
       "      <th>50%</th>\n",
       "      <td>3.842017e+04</td>\n",
       "      <td>4.649545e+05</td>\n",
       "      <td>2.568887e+05</td>\n",
       "      <td>15.350069</td>\n",
       "      <td>4138.849955</td>\n",
       "      <td>18.900000</td>\n",
       "      <td>13.170169</td>\n",
       "      <td>1.265056</td>\n",
       "      <td>5.999080e+06</td>\n",
       "    </tr>\n",
       "    <tr>\n",
       "      <th>75%</th>\n",
       "      <td>4.467135e+04</td>\n",
       "      <td>1.574111e+06</td>\n",
       "      <td>5.011564e+05</td>\n",
       "      <td>16.017279</td>\n",
       "      <td>16355.614016</td>\n",
       "      <td>47.524715</td>\n",
       "      <td>35.755810</td>\n",
       "      <td>2.295856</td>\n",
       "      <td>2.061322e+07</td>\n",
       "    </tr>\n",
       "    <tr>\n",
       "      <th>max</th>\n",
       "      <td>1.672523e+06</td>\n",
       "      <td>1.295421e+08</td>\n",
       "      <td>4.336739e+07</td>\n",
       "      <td>44.801800</td>\n",
       "      <td>192989.189527</td>\n",
       "      <td>98.200000</td>\n",
       "      <td>142.313279</td>\n",
       "      <td>16.331638</td>\n",
       "      <td>1.371220e+09</td>\n",
       "    </tr>\n",
       "  </tbody>\n",
       "</table>\n",
       "</div>"
      ],
      "text/plain": [
       "       Enrolment in post-secondary non-tertiary  Enrolment in secondary  \\\n",
       "count                              3.224000e+03            3.224000e+03   \n",
       "mean                               5.546459e+04            2.612295e+06   \n",
       "std                                1.055034e+05            1.015289e+07   \n",
       "min                                3.000000e+00            9.120000e+02   \n",
       "25%                                3.241040e+04            8.079900e+04   \n",
       "50%                                3.842017e+04            4.649545e+05   \n",
       "75%                                4.467135e+04            1.574111e+06   \n",
       "max                                1.672523e+06            1.295421e+08   \n",
       "\n",
       "       Enrolment in tertiary  Expenditure on education  \\\n",
       "count           3.224000e+03               3224.000000   \n",
       "mean            8.801425e+05                 15.075266   \n",
       "std             2.806985e+06                  3.710593   \n",
       "min             7.300000e+01                  3.103290   \n",
       "25%             1.216980e+05                 13.162020   \n",
       "50%             2.568887e+05                 15.350069   \n",
       "75%             5.011564e+05                 16.017279   \n",
       "max             4.336739e+07                 44.801800   \n",
       "\n",
       "       GDP per capita (current US$)  Internet users (per 100 people)  \\\n",
       "count                   3224.000000                      3224.000000   \n",
       "mean                   13491.267650                        28.076066   \n",
       "std                    21319.816563                        27.080331   \n",
       "min                      111.363436                         0.000000   \n",
       "25%                     1167.970356                         4.372650   \n",
       "50%                     4138.849955                        18.900000   \n",
       "75%                    16355.614016                        47.524715   \n",
       "max                   192989.189527                        98.200000   \n",
       "\n",
       "       Personal computers (per 100 people)  Population growth (annual %)  \\\n",
       "count                          3224.000000                   3224.000000   \n",
       "mean                             22.625904                      1.438247   \n",
       "std                              24.639452                      1.526574   \n",
       "min                              -1.329555                     -3.589465   \n",
       "25%                               3.370398                      0.465717   \n",
       "50%                              13.170169                      1.265056   \n",
       "75%                              35.755810                      2.295856   \n",
       "max                             142.313279                     16.331638   \n",
       "\n",
       "       Population, total  \n",
       "count       3.224000e+03  \n",
       "mean        3.294682e+07  \n",
       "std         1.288985e+08  \n",
       "min         9.420000e+03  \n",
       "25%         1.134177e+06  \n",
       "50%         5.999080e+06  \n",
       "75%         2.061322e+07  \n",
       "max         1.371220e+09  "
      ]
     },
     "execution_count": 67,
     "metadata": {},
     "output_type": "execute_result"
    }
   ],
   "source": [
    "data_ml.describe()"
   ]
  },
  {
   "cell_type": "markdown",
   "id": "496edfc2-9cec-4ba2-8d22-411a00bcd50f",
   "metadata": {},
   "source": [
    "#### Nouvel indicateur : **Potential customers**"
   ]
  },
  {
   "cell_type": "code",
   "execution_count": 68,
   "id": "99992794-d989-4f91-87f8-6f2d61d57824",
   "metadata": {},
   "outputs": [],
   "source": [
    "data_ml['Potential customers'] = data_ml['Enrolment in secondary'] + data_ml['Enrolment in tertiary'] + data_ml['Enrolment in post-secondary non-tertiary']"
   ]
  },
  {
   "cell_type": "markdown",
   "id": "f597a817-fdb0-41f4-bea0-d605e0beda91",
   "metadata": {},
   "source": [
    "#### Dataframe final "
   ]
  },
  {
   "cell_type": "code",
   "execution_count": 69,
   "id": "67b45b95-864c-4c11-aa9c-dfbb39fd415c",
   "metadata": {},
   "outputs": [],
   "source": [
    "df_final = pd.concat([data_final.iloc[:,:5],data_ml.iloc[:,3:]], axis=1)"
   ]
  },
  {
   "cell_type": "code",
   "execution_count": 70,
   "id": "afe177ef-fee4-4b2d-99c2-3bac2c374c7b",
   "metadata": {},
   "outputs": [
    {
     "data": {
      "text/html": [
       "<div>\n",
       "<style scoped>\n",
       "    .dataframe tbody tr th:only-of-type {\n",
       "        vertical-align: middle;\n",
       "    }\n",
       "\n",
       "    .dataframe tbody tr th {\n",
       "        vertical-align: top;\n",
       "    }\n",
       "\n",
       "    .dataframe thead th {\n",
       "        text-align: right;\n",
       "    }\n",
       "</style>\n",
       "<table border=\"1\" class=\"dataframe\">\n",
       "  <thead>\n",
       "    <tr style=\"text-align: right;\">\n",
       "      <th></th>\n",
       "      <th>Region</th>\n",
       "      <th>Country Code</th>\n",
       "      <th>Country</th>\n",
       "      <th>Year</th>\n",
       "      <th>Income Group</th>\n",
       "      <th>Expenditure on education</th>\n",
       "      <th>GDP per capita (current US$)</th>\n",
       "      <th>Internet users (per 100 people)</th>\n",
       "      <th>Personal computers (per 100 people)</th>\n",
       "      <th>Population growth (annual %)</th>\n",
       "      <th>Population, total</th>\n",
       "      <th>Potential customers</th>\n",
       "    </tr>\n",
       "  </thead>\n",
       "  <tbody>\n",
       "    <tr>\n",
       "      <th>2</th>\n",
       "      <td>East Asia &amp; Pacific</td>\n",
       "      <td>ASM</td>\n",
       "      <td>American Samoa</td>\n",
       "      <td>2002</td>\n",
       "      <td>Upper middle income</td>\n",
       "      <td>15.397179</td>\n",
       "      <td>8751.766529</td>\n",
       "      <td>26.023380</td>\n",
       "      <td>19.044292</td>\n",
       "      <td>0.951199</td>\n",
       "      <td>58731.0</td>\n",
       "      <td>302708.280565</td>\n",
       "    </tr>\n",
       "    <tr>\n",
       "      <th>3</th>\n",
       "      <td>East Asia &amp; Pacific</td>\n",
       "      <td>ASM</td>\n",
       "      <td>American Samoa</td>\n",
       "      <td>2003</td>\n",
       "      <td>Upper middle income</td>\n",
       "      <td>15.370253</td>\n",
       "      <td>8914.525433</td>\n",
       "      <td>27.256721</td>\n",
       "      <td>19.844786</td>\n",
       "      <td>0.655083</td>\n",
       "      <td>59117.0</td>\n",
       "      <td>302746.408348</td>\n",
       "    </tr>\n",
       "    <tr>\n",
       "      <th>4</th>\n",
       "      <td>East Asia &amp; Pacific</td>\n",
       "      <td>ASM</td>\n",
       "      <td>American Samoa</td>\n",
       "      <td>2004</td>\n",
       "      <td>Upper middle income</td>\n",
       "      <td>15.357394</td>\n",
       "      <td>8639.308855</td>\n",
       "      <td>28.547918</td>\n",
       "      <td>20.470555</td>\n",
       "      <td>0.248351</td>\n",
       "      <td>59264.0</td>\n",
       "      <td>302761.095310</td>\n",
       "    </tr>\n",
       "    <tr>\n",
       "      <th>5</th>\n",
       "      <td>East Asia &amp; Pacific</td>\n",
       "      <td>ASM</td>\n",
       "      <td>American Samoa</td>\n",
       "      <td>2005</td>\n",
       "      <td>Upper middle income</td>\n",
       "      <td>15.331877</td>\n",
       "      <td>8508.406915</td>\n",
       "      <td>30.284170</td>\n",
       "      <td>21.425952</td>\n",
       "      <td>-0.246659</td>\n",
       "      <td>59118.0</td>\n",
       "      <td>302746.708218</td>\n",
       "    </tr>\n",
       "    <tr>\n",
       "      <th>6</th>\n",
       "      <td>East Asia &amp; Pacific</td>\n",
       "      <td>ASM</td>\n",
       "      <td>American Samoa</td>\n",
       "      <td>2006</td>\n",
       "      <td>Upper middle income</td>\n",
       "      <td>15.299100</td>\n",
       "      <td>8456.947997</td>\n",
       "      <td>32.282248</td>\n",
       "      <td>22.572669</td>\n",
       "      <td>-0.794787</td>\n",
       "      <td>58650.0</td>\n",
       "      <td>302700.408588</td>\n",
       "    </tr>\n",
       "  </tbody>\n",
       "</table>\n",
       "</div>"
      ],
      "text/plain": [
       "                Region Country Code         Country  Year  \\\n",
       "2  East Asia & Pacific          ASM  American Samoa  2002   \n",
       "3  East Asia & Pacific          ASM  American Samoa  2003   \n",
       "4  East Asia & Pacific          ASM  American Samoa  2004   \n",
       "5  East Asia & Pacific          ASM  American Samoa  2005   \n",
       "6  East Asia & Pacific          ASM  American Samoa  2006   \n",
       "\n",
       "          Income Group  Expenditure on education  \\\n",
       "2  Upper middle income                 15.397179   \n",
       "3  Upper middle income                 15.370253   \n",
       "4  Upper middle income                 15.357394   \n",
       "5  Upper middle income                 15.331877   \n",
       "6  Upper middle income                 15.299100   \n",
       "\n",
       "   GDP per capita (current US$)  Internet users (per 100 people)  \\\n",
       "2                   8751.766529                        26.023380   \n",
       "3                   8914.525433                        27.256721   \n",
       "4                   8639.308855                        28.547918   \n",
       "5                   8508.406915                        30.284170   \n",
       "6                   8456.947997                        32.282248   \n",
       "\n",
       "   Personal computers (per 100 people)  Population growth (annual %)  \\\n",
       "2                            19.044292                      0.951199   \n",
       "3                            19.844786                      0.655083   \n",
       "4                            20.470555                      0.248351   \n",
       "5                            21.425952                     -0.246659   \n",
       "6                            22.572669                     -0.794787   \n",
       "\n",
       "   Population, total  Potential customers  \n",
       "2            58731.0        302708.280565  \n",
       "3            59117.0        302746.408348  \n",
       "4            59264.0        302761.095310  \n",
       "5            59118.0        302746.708218  \n",
       "6            58650.0        302700.408588  "
      ]
     },
     "execution_count": 70,
     "metadata": {},
     "output_type": "execute_result"
    }
   ],
   "source": [
    "df_final.head()"
   ]
  },
  {
   "cell_type": "code",
   "execution_count": 71,
   "id": "b71dd505-fc41-474a-9c90-33ded467f0d1",
   "metadata": {},
   "outputs": [],
   "source": [
    "df_final.to_csv('./data/df_final.csv', encoding='utf-8', index=False)"
   ]
  },
  {
   "cell_type": "code",
   "execution_count": null,
   "id": "37e24712-c232-4303-9d4e-6c62cb11dd75",
   "metadata": {},
   "outputs": [],
   "source": []
  }
 ],
 "metadata": {
  "kernelspec": {
   "display_name": "Python 3 (ipykernel)",
   "language": "python",
   "name": "python3"
  },
  "language_info": {
   "codemirror_mode": {
    "name": "ipython",
    "version": 3
   },
   "file_extension": ".py",
   "mimetype": "text/x-python",
   "name": "python",
   "nbconvert_exporter": "python",
   "pygments_lexer": "ipython3",
   "version": "3.9.13"
  }
 },
 "nbformat": 4,
 "nbformat_minor": 5
}
